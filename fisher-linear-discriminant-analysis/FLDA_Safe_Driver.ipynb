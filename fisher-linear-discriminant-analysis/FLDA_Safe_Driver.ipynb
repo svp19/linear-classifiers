{
 "cells": [
  {
   "cell_type": "code",
   "execution_count": 1,
   "metadata": {
    "id": "wT58B9UPaxJy"
   },
   "outputs": [],
   "source": [
    "import pandas as pd\n",
    "import numpy as np\n",
    "from sklearn.model_selection import train_test_split\n",
    "from sklearn.metrics import confusion_matrix\n",
    "from sklearn.metrics import f1_score"
   ]
  },
  {
   "cell_type": "code",
   "execution_count": 2,
   "metadata": {
    "colab": {
     "base_uri": "https://localhost:8080/"
    },
    "id": "W1g-ehujrjoi",
    "outputId": "cb7011ba-c3ec-4b0e-b188-81061b9b8ca1"
   },
   "outputs": [
    {
     "data": {
      "text/html": [
       "<div>\n",
       "<style scoped>\n",
       "    .dataframe tbody tr th:only-of-type {\n",
       "        vertical-align: middle;\n",
       "    }\n",
       "\n",
       "    .dataframe tbody tr th {\n",
       "        vertical-align: top;\n",
       "    }\n",
       "\n",
       "    .dataframe thead th {\n",
       "        text-align: right;\n",
       "    }\n",
       "</style>\n",
       "<table border=\"1\" class=\"dataframe\">\n",
       "  <thead>\n",
       "    <tr style=\"text-align: right;\">\n",
       "      <th></th>\n",
       "      <th>target</th>\n",
       "      <th>ps_ind_01</th>\n",
       "      <th>ps_ind_02_cat</th>\n",
       "      <th>ps_ind_03</th>\n",
       "      <th>ps_ind_04_cat</th>\n",
       "      <th>ps_ind_05_cat</th>\n",
       "      <th>ps_ind_06_bin</th>\n",
       "      <th>ps_ind_07_bin</th>\n",
       "      <th>ps_ind_08_bin</th>\n",
       "      <th>ps_ind_09_bin</th>\n",
       "      <th>...</th>\n",
       "      <th>ps_calc_11</th>\n",
       "      <th>ps_calc_12</th>\n",
       "      <th>ps_calc_13</th>\n",
       "      <th>ps_calc_14</th>\n",
       "      <th>ps_calc_15_bin</th>\n",
       "      <th>ps_calc_16_bin</th>\n",
       "      <th>ps_calc_17_bin</th>\n",
       "      <th>ps_calc_18_bin</th>\n",
       "      <th>ps_calc_19_bin</th>\n",
       "      <th>ps_calc_20_bin</th>\n",
       "    </tr>\n",
       "    <tr>\n",
       "      <th>id</th>\n",
       "      <th></th>\n",
       "      <th></th>\n",
       "      <th></th>\n",
       "      <th></th>\n",
       "      <th></th>\n",
       "      <th></th>\n",
       "      <th></th>\n",
       "      <th></th>\n",
       "      <th></th>\n",
       "      <th></th>\n",
       "      <th></th>\n",
       "      <th></th>\n",
       "      <th></th>\n",
       "      <th></th>\n",
       "      <th></th>\n",
       "      <th></th>\n",
       "      <th></th>\n",
       "      <th></th>\n",
       "      <th></th>\n",
       "      <th></th>\n",
       "      <th></th>\n",
       "    </tr>\n",
       "  </thead>\n",
       "  <tbody>\n",
       "    <tr>\n",
       "      <th>7</th>\n",
       "      <td>0</td>\n",
       "      <td>2</td>\n",
       "      <td>2</td>\n",
       "      <td>5</td>\n",
       "      <td>1</td>\n",
       "      <td>0</td>\n",
       "      <td>0</td>\n",
       "      <td>1</td>\n",
       "      <td>0</td>\n",
       "      <td>0</td>\n",
       "      <td>...</td>\n",
       "      <td>9</td>\n",
       "      <td>1</td>\n",
       "      <td>5</td>\n",
       "      <td>8</td>\n",
       "      <td>0</td>\n",
       "      <td>1</td>\n",
       "      <td>1</td>\n",
       "      <td>0</td>\n",
       "      <td>0</td>\n",
       "      <td>1</td>\n",
       "    </tr>\n",
       "    <tr>\n",
       "      <th>9</th>\n",
       "      <td>0</td>\n",
       "      <td>1</td>\n",
       "      <td>1</td>\n",
       "      <td>7</td>\n",
       "      <td>0</td>\n",
       "      <td>0</td>\n",
       "      <td>0</td>\n",
       "      <td>0</td>\n",
       "      <td>1</td>\n",
       "      <td>0</td>\n",
       "      <td>...</td>\n",
       "      <td>3</td>\n",
       "      <td>1</td>\n",
       "      <td>1</td>\n",
       "      <td>9</td>\n",
       "      <td>0</td>\n",
       "      <td>1</td>\n",
       "      <td>1</td>\n",
       "      <td>0</td>\n",
       "      <td>1</td>\n",
       "      <td>0</td>\n",
       "    </tr>\n",
       "    <tr>\n",
       "      <th>13</th>\n",
       "      <td>0</td>\n",
       "      <td>5</td>\n",
       "      <td>4</td>\n",
       "      <td>9</td>\n",
       "      <td>1</td>\n",
       "      <td>0</td>\n",
       "      <td>0</td>\n",
       "      <td>0</td>\n",
       "      <td>1</td>\n",
       "      <td>0</td>\n",
       "      <td>...</td>\n",
       "      <td>4</td>\n",
       "      <td>2</td>\n",
       "      <td>7</td>\n",
       "      <td>7</td>\n",
       "      <td>0</td>\n",
       "      <td>1</td>\n",
       "      <td>1</td>\n",
       "      <td>0</td>\n",
       "      <td>1</td>\n",
       "      <td>0</td>\n",
       "    </tr>\n",
       "    <tr>\n",
       "      <th>16</th>\n",
       "      <td>0</td>\n",
       "      <td>0</td>\n",
       "      <td>1</td>\n",
       "      <td>2</td>\n",
       "      <td>0</td>\n",
       "      <td>0</td>\n",
       "      <td>1</td>\n",
       "      <td>0</td>\n",
       "      <td>0</td>\n",
       "      <td>0</td>\n",
       "      <td>...</td>\n",
       "      <td>2</td>\n",
       "      <td>2</td>\n",
       "      <td>4</td>\n",
       "      <td>9</td>\n",
       "      <td>0</td>\n",
       "      <td>0</td>\n",
       "      <td>0</td>\n",
       "      <td>0</td>\n",
       "      <td>0</td>\n",
       "      <td>0</td>\n",
       "    </tr>\n",
       "    <tr>\n",
       "      <th>17</th>\n",
       "      <td>0</td>\n",
       "      <td>0</td>\n",
       "      <td>2</td>\n",
       "      <td>0</td>\n",
       "      <td>1</td>\n",
       "      <td>0</td>\n",
       "      <td>1</td>\n",
       "      <td>0</td>\n",
       "      <td>0</td>\n",
       "      <td>0</td>\n",
       "      <td>...</td>\n",
       "      <td>3</td>\n",
       "      <td>1</td>\n",
       "      <td>1</td>\n",
       "      <td>3</td>\n",
       "      <td>0</td>\n",
       "      <td>0</td>\n",
       "      <td>0</td>\n",
       "      <td>1</td>\n",
       "      <td>1</td>\n",
       "      <td>0</td>\n",
       "    </tr>\n",
       "  </tbody>\n",
       "</table>\n",
       "<p>5 rows × 58 columns</p>\n",
       "</div>"
      ],
      "text/plain": [
       "    target  ps_ind_01  ps_ind_02_cat  ps_ind_03  ps_ind_04_cat  ps_ind_05_cat  \\\n",
       "id                                                                              \n",
       "7        0          2              2          5              1              0   \n",
       "9        0          1              1          7              0              0   \n",
       "13       0          5              4          9              1              0   \n",
       "16       0          0              1          2              0              0   \n",
       "17       0          0              2          0              1              0   \n",
       "\n",
       "    ps_ind_06_bin  ps_ind_07_bin  ps_ind_08_bin  ps_ind_09_bin  ...  \\\n",
       "id                                                              ...   \n",
       "7               0              1              0              0  ...   \n",
       "9               0              0              1              0  ...   \n",
       "13              0              0              1              0  ...   \n",
       "16              1              0              0              0  ...   \n",
       "17              1              0              0              0  ...   \n",
       "\n",
       "    ps_calc_11  ps_calc_12  ps_calc_13  ps_calc_14  ps_calc_15_bin  \\\n",
       "id                                                                   \n",
       "7            9           1           5           8               0   \n",
       "9            3           1           1           9               0   \n",
       "13           4           2           7           7               0   \n",
       "16           2           2           4           9               0   \n",
       "17           3           1           1           3               0   \n",
       "\n",
       "    ps_calc_16_bin  ps_calc_17_bin  ps_calc_18_bin  ps_calc_19_bin  \\\n",
       "id                                                                   \n",
       "7                1               1               0               0   \n",
       "9                1               1               0               1   \n",
       "13               1               1               0               1   \n",
       "16               0               0               0               0   \n",
       "17               0               0               1               1   \n",
       "\n",
       "    ps_calc_20_bin  \n",
       "id                  \n",
       "7                1  \n",
       "9                0  \n",
       "13               0  \n",
       "16               0  \n",
       "17               0  \n",
       "\n",
       "[5 rows x 58 columns]"
      ]
     },
     "execution_count": 2,
     "metadata": {},
     "output_type": "execute_result"
    }
   ],
   "source": [
    "df = pd.read_csv('train.csv', index_col=0)\n",
    "df.head()"
   ]
  },
  {
   "cell_type": "code",
   "execution_count": 33,
   "metadata": {
    "colab": {
     "base_uri": "https://localhost:8080/"
    },
    "id": "bT9UNAKSr0me",
    "outputId": "537e8cfc-b69a-48de-9ae9-ddb2849324c2"
   },
   "outputs": [
    {
     "data": {
      "text/plain": [
       "((595212, 57), (595212,))"
      ]
     },
     "execution_count": 33,
     "metadata": {},
     "output_type": "execute_result"
    }
   ],
   "source": [
    "X = df.drop(['target'], axis=1).values\n",
    "y = df.target.values\n",
    "X.shape, y.shape"
   ]
  },
  {
   "cell_type": "code",
   "execution_count": 38,
   "metadata": {},
   "outputs": [
    {
     "data": {
      "text/plain": [
       "((21694, 57), (21694, 57), (21694,), (21694,))"
      ]
     },
     "execution_count": 38,
     "metadata": {},
     "output_type": "execute_result"
    }
   ],
   "source": [
    "X_1 = X[y == 1]\n",
    "y_1 = y[y == 1]\n",
    "X_0 = X[y == 0][:X_1.shape[0], :]\n",
    "y_0 = y[y == 0][:X_1.shape[0]]\n",
    "X_0.shape, X_1.shape, y_1.shape, y_0.shape"
   ]
  },
  {
   "cell_type": "code",
   "execution_count": 48,
   "metadata": {},
   "outputs": [
    {
     "data": {
      "text/plain": [
       "((43388, 57), (43388,))"
      ]
     },
     "execution_count": 48,
     "metadata": {},
     "output_type": "execute_result"
    }
   ],
   "source": [
    "X = np.concatenate((X_0, X_1), axis=0)\n",
    "y = np.concatenate((y_0, y_1), axis=0)\n",
    "X.shape, y.shape"
   ]
  },
  {
   "cell_type": "code",
   "execution_count": 49,
   "metadata": {},
   "outputs": [],
   "source": [
    "from sklearn.preprocessing import StandardScaler\n",
    "\n",
    "ss = StandardScaler()\n",
    "X = ss.fit_transform(X)"
   ]
  },
  {
   "cell_type": "code",
   "execution_count": null,
   "metadata": {},
   "outputs": [],
   "source": []
  },
  {
   "cell_type": "markdown",
   "metadata": {
    "id": "UTG_R9s-doBi"
   },
   "source": [
    "### 80-20 Split"
   ]
  },
  {
   "cell_type": "code",
   "execution_count": 55,
   "metadata": {
    "colab": {
     "base_uri": "https://localhost:8080/"
    },
    "id": "L0fQBF8lOPfj",
    "outputId": "42439389-bf84-4823-a3ab-94bc8b4de9c5"
   },
   "outputs": [
    {
     "name": "stdout",
     "output_type": "stream",
     "text": [
      "Train acc. = 0.5914433880726016\n",
      "Test acc. = 0.5926480755934547\n",
      "F1-Score (train) =  0.5751774961804619\n",
      "F1-Score (test) =  0.5729128911441345\n"
     ]
    },
    {
     "data": {
      "text/plain": [
       "array([[2772, 1587],\n",
       "       [1948, 2371]])"
      ]
     },
     "execution_count": 55,
     "metadata": {},
     "output_type": "execute_result"
    }
   ],
   "source": [
    "X_train, X_test, y_train, y_test = train_test_split(X, y, test_size=0.2)\n",
    "X_train.shape, y_train.shape, X_test.shape, y_test.shape\n",
    "\n",
    "D = 57\n",
    "X_train_0 = X_train[y_train == 0]\n",
    "X_train_1 = X_train[y_train == 1]\n",
    "X_test_0 = X_test[y_test == 0]\n",
    "X_test_1 = X_test[y_test == 1]\n",
    "\n",
    "M_0 = X_train_0.mean(axis=0)\n",
    "M_1 = X_train_1.mean(axis=0)\n",
    "\n",
    "cov_0 = np.zeros((D, D))\n",
    "for i in range(X_train_0.shape[0]):\n",
    "    W = (X_train_0[i] - M_0).reshape(-1, 1)\n",
    "    cov_0 += np.matmul(W, W.T)\n",
    "\n",
    "cov_1 = np.zeros((D, D))\n",
    "for i in range(X_train_1.shape[0]):\n",
    "    W = (X_train_1[i] - M_1).reshape(-1, 1)\n",
    "    cov_1 += np.matmul(W, W.T)\n",
    "\n",
    "S_w = cov_0 + cov_1\n",
    "S_w_inv = np.linalg.pinv(S_w)\n",
    "W = np.matmul(S_w_inv, (M_1 - M_0)).reshape(-1, 1)\n",
    "W = W/np.linalg.norm(W,2)\n",
    "\n",
    "def predict(x, W, b):\n",
    "    return np.matmul(W.T, x) + b\n",
    "\n",
    "\n",
    "# Line Search\n",
    "best_b, best_acc = 0, 0\n",
    "lower = np.matmul(W.T, M_0)[0] - 5\n",
    "upper = np.matmul(W.T, M_1)[0] + 5\n",
    "for b in np.linspace(lower, upper, 1000):\n",
    "    acc = 0\n",
    "    for (i, X_i) in enumerate(X_train_0):\n",
    "        pred = predict(X_i.reshape(-1, 1), W, b)\n",
    "        if pred < 0:\n",
    "            acc += 1\n",
    "\n",
    "    for (i, X_i) in enumerate(X_train_1):\n",
    "        pred = predict(X_i.reshape(-1, 1), W, b)\n",
    "        if pred >= 0:\n",
    "            acc += 1\n",
    "\n",
    "    if acc > best_acc:\n",
    "        best_acc = acc\n",
    "        best_b = b\n",
    "    \n",
    "    # print(f'Bias {b}, Acc: {acc/X_train.shape[0]}, Best: {best_acc/X_train.shape[0]}')\n",
    "\n",
    "print('Train acc. =', best_acc/X_train.shape[0])\n",
    "\n",
    "b = best_b\n",
    "acc = 0\n",
    "for (i, X_i) in enumerate(X_test_0):\n",
    "    pred = predict(X_i.reshape(-1, 1), W, b)\n",
    "    if pred < 0:\n",
    "        acc += 1\n",
    "\n",
    "for (i, X_i) in enumerate(X_test_1):\n",
    "    pred = predict(X_i.reshape(-1, 1), W, b)\n",
    "    if pred >= 0:\n",
    "        acc += 1\n",
    "\n",
    "print(f'Test acc. = {acc/X_test.shape[0]}')\n",
    "\n",
    "# f1-score\n",
    "y_pred = []\n",
    "for X_i in X_train:\n",
    "    pred = predict(X_i.reshape(-1, 1), W, b)\n",
    "    if pred < 0:\n",
    "        y_pred.append(0)\n",
    "    else:\n",
    "        y_pred.append(1)\n",
    "y_pred = np.array(y_pred)\n",
    "print('F1-Score (train) = ', f1_score(y_train, y_pred))\n",
    "\n",
    "y_pred = []\n",
    "for X_i in X_test:\n",
    "    pred = predict(X_i.reshape(-1, 1), W, b)\n",
    "    if pred < 0:\n",
    "        y_pred.append(0)\n",
    "    else:\n",
    "        y_pred.append(1)\n",
    "y_pred = np.array(y_pred)\n",
    "\n",
    "print('F1-Score (test) = ', f1_score(y_test, y_pred))\n",
    "confusion_matrix(y_test, y_pred)"
   ]
  },
  {
   "cell_type": "code",
   "execution_count": 56,
   "metadata": {},
   "outputs": [
    {
     "name": "stdout",
     "output_type": "stream",
     "text": [
      "0.708038029386344\n",
      "F1-Score (train) =  0.7018359420972107\n",
      "0.5852731044019359\n",
      "F1-Score (test) =  0.5757397147235648\n"
     ]
    }
   ],
   "source": [
    "from sklearn.svm import SVC\n",
    "\n",
    "svc = SVC()\n",
    "svc.fit(X_train, y_train)\n",
    "y_pred = svc.predict(X_train)\n",
    "print(svc.score(X_train, y_train))\n",
    "print('F1-Score (train) = ', f1_score(y_train, y_pred))\n",
    "y_pred = svc.predict(X_test)\n",
    "print(svc.score(X_test, y_test))\n",
    "print('F1-Score (test) = ', f1_score(y_test, y_pred))"
   ]
  },
  {
   "cell_type": "code",
   "execution_count": 57,
   "metadata": {},
   "outputs": [
    {
     "name": "stdout",
     "output_type": "stream",
     "text": [
      "0.732987611639297\n",
      "F1-Score (train) =  0.7362399681256759\n",
      "0.5562341553353307\n",
      "F1-Score (test) =  0.5586246418338109\n"
     ]
    },
    {
     "name": "stderr",
     "output_type": "stream",
     "text": [
      "/home/svp/miniconda3/lib/python3.8/site-packages/sklearn/neural_network/_multilayer_perceptron.py:614: ConvergenceWarning: Stochastic Optimizer: Maximum iterations (200) reached and the optimization hasn't converged yet.\n",
      "  warnings.warn(\n"
     ]
    }
   ],
   "source": [
    "from sklearn.neural_network import MLPClassifier\n",
    "\n",
    "svc = MLPClassifier()\n",
    "svc.fit(X_train, y_train)\n",
    "y_pred = svc.predict(X_train)\n",
    "print(svc.score(X_train, y_train))\n",
    "print('F1-Score (train) = ', f1_score(y_train, y_pred))\n",
    "y_pred = svc.predict(X_test)\n",
    "print(svc.score(X_test, y_test))\n",
    "print('F1-Score (test) = ', f1_score(y_test, y_pred))"
   ]
  },
  {
   "cell_type": "code",
   "execution_count": null,
   "metadata": {},
   "outputs": [],
   "source": []
  },
  {
   "cell_type": "code",
   "execution_count": null,
   "metadata": {},
   "outputs": [],
   "source": []
  },
  {
   "cell_type": "code",
   "execution_count": null,
   "metadata": {},
   "outputs": [],
   "source": []
  },
  {
   "cell_type": "markdown",
   "metadata": {
    "id": "ANf740gzv3Xe"
   },
   "source": [
    "### 70-30 Split"
   ]
  },
  {
   "cell_type": "code",
   "execution_count": 52,
   "metadata": {
    "colab": {
     "base_uri": "https://localhost:8080/"
    },
    "id": "7QKexnq-y8At",
    "outputId": "520ea5d5-b09b-46c5-d40a-cf0ffc7d74fe"
   },
   "outputs": [
    {
     "name": "stdout",
     "output_type": "stream",
     "text": [
      "Train acc. = 0.5922425998485398\n",
      "Test acc. = 0.5866175001920565\n",
      "F1-Score (train) =  0.5746084089035449\n",
      "F1-Score (test) =  0.5702419934510022\n"
     ]
    },
    {
     "data": {
      "text/plain": [
       "array([[4066, 2416],\n",
       "       [2965, 3570]])"
      ]
     },
     "execution_count": 52,
     "metadata": {},
     "output_type": "execute_result"
    }
   ],
   "source": [
    "X_train, X_test, y_train, y_test = train_test_split(X, y, test_size=0.3)\n",
    "X_train.shape, y_train.shape, X_test.shape, y_test.shape\n",
    "\n",
    "D = 57\n",
    "X_train_0 = X_train[y_train == 0]\n",
    "X_train_1 = X_train[y_train == 1]\n",
    "X_test_0 = X_test[y_test == 0]\n",
    "X_test_1 = X_test[y_test == 1]\n",
    "\n",
    "M_0 = X_train_0.mean(axis=0)\n",
    "M_1 = X_train_1.mean(axis=0)\n",
    "\n",
    "cov_0 = np.zeros((D, D))\n",
    "for i in range(X_train_0.shape[0]):\n",
    "    W = (X_train_0[i] - M_0).reshape(-1, 1)\n",
    "    cov_0 += np.matmul(W, W.T)\n",
    "\n",
    "cov_1 = np.zeros((D, D))\n",
    "for i in range(X_train_1.shape[0]):\n",
    "    W = (X_train_1[i] - M_1).reshape(-1, 1)\n",
    "    cov_1 += np.matmul(W, W.T)\n",
    "\n",
    "S_w = cov_0 + cov_1\n",
    "S_w_inv = np.linalg.inv(S_w)\n",
    "W = np.matmul(S_w_inv, (M_1 - M_0)).reshape(-1, 1)\n",
    "W = W/np.linalg.norm(W,2)\n",
    "\n",
    "def predict(x, W, b):\n",
    "    return np.matmul(W.T, x) + b\n",
    "\n",
    "\n",
    "# Line Search\n",
    "best_b, best_acc = 0, 0\n",
    "lower = np.matmul(W.T, M_0)[0] - 5\n",
    "upper = np.matmul(W.T, M_1)[0] + 5\n",
    "for b in np.linspace(lower, upper, 1000):\n",
    "    acc = 0\n",
    "    for (i, X_i) in enumerate(X_train_0):\n",
    "        pred = predict(X_i.reshape(-1, 1), W, b)\n",
    "        if pred < 0:\n",
    "            acc += 1\n",
    "\n",
    "    for (i, X_i) in enumerate(X_train_1):\n",
    "        pred = predict(X_i.reshape(-1, 1), W, b)\n",
    "        if pred >= 0:\n",
    "            acc += 1\n",
    "\n",
    "    if acc > best_acc:\n",
    "        best_acc = acc\n",
    "        best_b = b\n",
    "    \n",
    "    # print(f'Bias {b}, Acc: {acc/X_train.shape[0]}, Best: {best_acc/X_train.shape[0]}')\n",
    "\n",
    "print('Train acc. =', best_acc/X_train.shape[0])\n",
    "\n",
    "b = best_b\n",
    "acc = 0\n",
    "for (i, X_i) in enumerate(X_test_0):\n",
    "    pred = predict(X_i.reshape(-1, 1), W, b)\n",
    "    if pred < 0:\n",
    "        acc += 1\n",
    "\n",
    "for (i, X_i) in enumerate(X_test_1):\n",
    "    pred = predict(X_i.reshape(-1, 1), W, b)\n",
    "    if pred >= 0:\n",
    "        acc += 1\n",
    "\n",
    "print(f'Test acc. = {acc/X_test.shape[0]}')\n",
    "\n",
    "# f1-score\n",
    "y_pred = []\n",
    "for X_i in X_train:\n",
    "    pred = predict(X_i.reshape(-1, 1), W, b)\n",
    "    if pred < 0:\n",
    "        y_pred.append(0)\n",
    "    else:\n",
    "        y_pred.append(1)\n",
    "y_pred = np.array(y_pred)\n",
    "print('F1-Score (train) = ', f1_score(y_train, y_pred))\n",
    "\n",
    "y_pred = []\n",
    "for X_i in X_test:\n",
    "    pred = predict(X_i.reshape(-1, 1), W, b)\n",
    "    if pred < 0:\n",
    "        y_pred.append(0)\n",
    "    else:\n",
    "        y_pred.append(1)\n",
    "y_pred = np.array(y_pred)\n",
    "\n",
    "print('F1-Score (test) = ', f1_score(y_test, y_pred))\n",
    "confusion_matrix(y_test, y_pred)"
   ]
  },
  {
   "cell_type": "code",
   "execution_count": null,
   "metadata": {
    "id": "jMnD7AFBzg_e"
   },
   "outputs": [],
   "source": []
  },
  {
   "cell_type": "code",
   "execution_count": null,
   "metadata": {},
   "outputs": [],
   "source": []
  },
  {
   "cell_type": "code",
   "execution_count": null,
   "metadata": {},
   "outputs": [],
   "source": []
  },
  {
   "cell_type": "code",
   "execution_count": 53,
   "metadata": {},
   "outputs": [
    {
     "name": "stdout",
     "output_type": "stream",
     "text": [
      "0.7146290869579534\n",
      "F1-Score (train) =  0.7033373267157282\n",
      "0.5844664669278635\n",
      "F1-Score (test) =  0.5719711956951808\n"
     ]
    }
   ],
   "source": [
    "from sklearn.svm import SVC\n",
    "\n",
    "svc = SVC()\n",
    "svc.fit(X_train, y_train)\n",
    "y_pred = svc.predict(X_train)\n",
    "print(svc.score(X_train, y_train))\n",
    "print('F1-Score (train) = ', f1_score(y_train, y_pred))\n",
    "y_pred = svc.predict(X_test)\n",
    "print(svc.score(X_test, y_test))\n",
    "print('F1-Score (test) = ', f1_score(y_test, y_pred))"
   ]
  },
  {
   "cell_type": "code",
   "execution_count": 54,
   "metadata": {},
   "outputs": [
    {
     "name": "stdout",
     "output_type": "stream",
     "text": [
      "0.7440650620657865\n",
      "F1-Score (train) =  0.743185647735157\n",
      "0.5525082584312822\n",
      "F1-Score (test) =  0.5545614437562132\n"
     ]
    },
    {
     "name": "stderr",
     "output_type": "stream",
     "text": [
      "/home/svp/miniconda3/lib/python3.8/site-packages/sklearn/neural_network/_multilayer_perceptron.py:614: ConvergenceWarning: Stochastic Optimizer: Maximum iterations (200) reached and the optimization hasn't converged yet.\n",
      "  warnings.warn(\n"
     ]
    }
   ],
   "source": [
    "from sklearn.neural_network import MLPClassifier\n",
    "\n",
    "svc = MLPClassifier()\n",
    "svc.fit(X_train, y_train)\n",
    "y_pred = svc.predict(X_train)\n",
    "print(svc.score(X_train, y_train))\n",
    "print('F1-Score (train) = ', f1_score(y_train, y_pred))\n",
    "y_pred = svc.predict(X_test)\n",
    "print(svc.score(X_test, y_test))\n",
    "print('F1-Score (test) = ', f1_score(y_test, y_pred))"
   ]
  },
  {
   "cell_type": "code",
   "execution_count": null,
   "metadata": {},
   "outputs": [],
   "source": []
  }
 ],
 "metadata": {
  "colab": {
   "name": "SPR Lab 4 - FLDA German.ipynb",
   "provenance": []
  },
  "kernelspec": {
   "display_name": "Python 3",
   "language": "python",
   "name": "python3"
  },
  "language_info": {
   "codemirror_mode": {
    "name": "ipython",
    "version": 3
   },
   "file_extension": ".py",
   "mimetype": "text/x-python",
   "name": "python",
   "nbconvert_exporter": "python",
   "pygments_lexer": "ipython3",
   "version": "3.8.3"
  }
 },
 "nbformat": 4,
 "nbformat_minor": 1
}
