{
  "nbformat": 4,
  "nbformat_minor": 0,
  "metadata": {
    "colab": {
      "name": "SPR Lab 4 - FLDA German.ipynb",
      "provenance": []
    },
    "kernelspec": {
      "name": "python3",
      "display_name": "Python 3"
    },
    "language_info": {
      "name": "python"
    }
  },
  "cells": [
    {
      "cell_type": "code",
      "metadata": {
        "id": "wT58B9UPaxJy"
      },
      "source": [
        "import numpy as np\n",
        "from sklearn.model_selection import train_test_split\n",
        "from sklearn.metrics import confusion_matrix\n",
        "from sklearn.metrics import f1_score"
      ],
      "execution_count": 1,
      "outputs": []
    },
    {
      "cell_type": "code",
      "metadata": {
        "colab": {
          "base_uri": "https://localhost:8080/"
        },
        "id": "W1g-ehujrjoi",
        "outputId": "b28495c1-09ff-449e-f515-6ef5207b9ef8"
      },
      "source": [
        "!wget https://archive.ics.uci.edu/ml/machine-learning-databases/statlog/german/german.data-numeric"
      ],
      "execution_count": 2,
      "outputs": [
        {
          "output_type": "stream",
          "text": [
            "--2021-03-31 12:24:20--  https://archive.ics.uci.edu/ml/machine-learning-databases/statlog/german/german.data-numeric\n",
            "Resolving archive.ics.uci.edu (archive.ics.uci.edu)... 128.195.10.252\n",
            "Connecting to archive.ics.uci.edu (archive.ics.uci.edu)|128.195.10.252|:443... connected.\n",
            "HTTP request sent, awaiting response... 200 OK\n",
            "Length: 102000 (100K) [application/x-httpd-php]\n",
            "Saving to: ‘german.data-numeric’\n",
            "\n",
            "german.data-numeric 100%[===================>]  99.61K   515KB/s    in 0.2s    \n",
            "\n",
            "2021-03-31 12:24:21 (515 KB/s) - ‘german.data-numeric’ saved [102000/102000]\n",
            "\n"
          ],
          "name": "stdout"
        }
      ]
    },
    {
      "cell_type": "code",
      "metadata": {
        "colab": {
          "base_uri": "https://localhost:8080/"
        },
        "id": "bT9UNAKSr0me",
        "outputId": "9e2bd744-7121-4cba-fa66-5986f7e96dac"
      },
      "source": [
        "arr = np.loadtxt('german.data-numeric')\n",
        "arr.shape"
      ],
      "execution_count": 3,
      "outputs": [
        {
          "output_type": "execute_result",
          "data": {
            "text/plain": [
              "(1000, 25)"
            ]
          },
          "metadata": {
            "tags": []
          },
          "execution_count": 3
        }
      ]
    },
    {
      "cell_type": "code",
      "metadata": {
        "id": "GBQGANJrr2TJ"
      },
      "source": [
        "# !wget https://archive.ics.uci.edu/ml/machine-learning-databases/statlog/german/german.doc\n",
        "# # with open('german.doc') as f:\n",
        "# #     lines = f.readlines()\n",
        "# # lines"
      ],
      "execution_count": 4,
      "outputs": []
    },
    {
      "cell_type": "code",
      "metadata": {
        "colab": {
          "base_uri": "https://localhost:8080/"
        },
        "id": "oUFLSrArr2H9",
        "outputId": "ac65d7a8-aff7-4fb6-fa37-509b713f9d40"
      },
      "source": [
        "X, y = arr[:, :24], arr[:, -1]\n",
        "y[y == 2] = 0\n",
        "X.shape, y.shape"
      ],
      "execution_count": 5,
      "outputs": [
        {
          "output_type": "execute_result",
          "data": {
            "text/plain": [
              "((1000, 24), (1000,))"
            ]
          },
          "metadata": {
            "tags": []
          },
          "execution_count": 5
        }
      ]
    },
    {
      "cell_type": "code",
      "metadata": {
        "id": "MWtaRzIEr14W"
      },
      "source": [
        ""
      ],
      "execution_count": 5,
      "outputs": []
    },
    {
      "cell_type": "markdown",
      "metadata": {
        "id": "UTG_R9s-doBi"
      },
      "source": [
        "### 80-20 Split"
      ]
    },
    {
      "cell_type": "code",
      "metadata": {
        "colab": {
          "base_uri": "https://localhost:8080/"
        },
        "id": "L0fQBF8lOPfj",
        "outputId": "91c8c97a-421a-4bea-fdd8-ec8b6c56aab6"
      },
      "source": [
        "X_train, X_test, y_train, y_test = train_test_split(X, y, test_size=0.2)\n",
        "X_train.shape, y_train.shape, X_test.shape, y_test.shape\n",
        "\n",
        "D = 24\n",
        "X_train_0 = X_train[y_train == 0]\n",
        "X_train_1 = X_train[y_train == 1]\n",
        "X_test_0 = X_test[y_test == 0]\n",
        "X_test_1 = X_test[y_test == 1]\n",
        "\n",
        "M_0 = X_train_0.mean(axis=0)\n",
        "M_1 = X_train_1.mean(axis=0)\n",
        "\n",
        "cov_0 = np.zeros((D, D))\n",
        "for i in range(X_train_0.shape[0]):\n",
        "    W = (X_train_0[i] - M_0).reshape(-1, 1)\n",
        "    cov_0 += np.matmul(W, W.T)\n",
        "\n",
        "cov_1 = np.zeros((D, D))\n",
        "for i in range(X_train_1.shape[0]):\n",
        "    W = (X_train_1[i] - M_1).reshape(-1, 1)\n",
        "    cov_1 += np.matmul(W, W.T)\n",
        "\n",
        "S_w = cov_0 + cov_1\n",
        "S_w_inv = np.linalg.inv(S_w)\n",
        "W = np.matmul(S_w_inv, (M_1 - M_0)).reshape(-1, 1)\n",
        "W = W/np.linalg.norm(W,2)\n",
        "\n",
        "def predict(x, W, b):\n",
        "    return np.matmul(W.T, x) + b\n",
        "\n",
        "\n",
        "# Line Search\n",
        "best_b, best_acc = 0, 0\n",
        "lower = np.matmul(W.T, M_0)[0] - 5\n",
        "upper = np.matmul(W.T, M_1)[0] + 5\n",
        "for b in np.linspace(lower, upper, 1000):\n",
        "    acc = 0\n",
        "    for (i, X_i) in enumerate(X_train_0):\n",
        "        pred = predict(X_i.reshape(-1, 1), W, b)\n",
        "        if pred < 0:\n",
        "            acc += 1\n",
        "\n",
        "    for (i, X_i) in enumerate(X_train_1):\n",
        "        pred = predict(X_i.reshape(-1, 1), W, b)\n",
        "        if pred >= 0:\n",
        "            acc += 1\n",
        "\n",
        "    if acc > best_acc:\n",
        "        best_acc = acc\n",
        "        best_b = b\n",
        "    \n",
        "    # print(f'Bias {b}, Acc: {acc/X_train.shape[0]}, Best: {best_acc/X_train.shape[0]}')\n",
        "\n",
        "print('Train acc. =', best_acc/X_train.shape[0])\n",
        "\n",
        "b = best_b\n",
        "acc = 0\n",
        "for (i, X_i) in enumerate(X_test_0):\n",
        "    pred = predict(X_i.reshape(-1, 1), W, b)\n",
        "    if pred < 0:\n",
        "        acc += 1\n",
        "\n",
        "for (i, X_i) in enumerate(X_test_1):\n",
        "    pred = predict(X_i.reshape(-1, 1), W, b)\n",
        "    if pred >= 0:\n",
        "        acc += 1\n",
        "\n",
        "print(f'Test acc. = {acc/X_test.shape[0]}')\n",
        "\n",
        "# f1-score\n",
        "y_pred = []\n",
        "for X_i in X_train:\n",
        "    pred = predict(X_i.reshape(-1, 1), W, b)\n",
        "    if pred < 0:\n",
        "        y_pred.append(0)\n",
        "    else:\n",
        "        y_pred.append(1)\n",
        "y_pred = np.array(y_pred)\n",
        "print('F1-Score (train) = ', f1_score(y_train, y_pred))\n",
        "\n",
        "y_pred = []\n",
        "for X_i in X_test:\n",
        "    pred = predict(X_i.reshape(-1, 1), W, b)\n",
        "    if pred < 0:\n",
        "        y_pred.append(0)\n",
        "    else:\n",
        "        y_pred.append(1)\n",
        "y_pred = np.array(y_pred)\n",
        "\n",
        "print('F1-Score (test) = ', f1_score(y_test, y_pred))\n",
        "confusion_matrix(y_test, y_pred)"
      ],
      "execution_count": 6,
      "outputs": [
        {
          "output_type": "stream",
          "text": [
            "Train acc. = 0.7825\n",
            "Test acc. = 0.765\n",
            "F1-Score (train) =  0.8540268456375838\n",
            "F1-Score (test) =  0.8339222614840989\n"
          ],
          "name": "stdout"
        },
        {
          "output_type": "execute_result",
          "data": {
            "text/plain": [
              "array([[ 35,  33],\n",
              "       [ 14, 118]])"
            ]
          },
          "metadata": {
            "tags": []
          },
          "execution_count": 6
        }
      ]
    },
    {
      "cell_type": "markdown",
      "metadata": {
        "id": "ANf740gzv3Xe"
      },
      "source": [
        "### 70-30 Split"
      ]
    },
    {
      "cell_type": "code",
      "metadata": {
        "colab": {
          "base_uri": "https://localhost:8080/"
        },
        "id": "7QKexnq-y8At",
        "outputId": "cf1c5254-4aff-4c68-9ef0-253ef59d6330"
      },
      "source": [
        "X_train, X_test, y_train, y_test = train_test_split(X, y, test_size=0.3)\n",
        "X_train.shape, y_train.shape, X_test.shape, y_test.shape\n",
        "\n",
        "D = 24\n",
        "X_train_0 = X_train[y_train == 0]\n",
        "X_train_1 = X_train[y_train == 1]\n",
        "X_test_0 = X_test[y_test == 0]\n",
        "X_test_1 = X_test[y_test == 1]\n",
        "\n",
        "M_0 = X_train_0.mean(axis=0)\n",
        "M_1 = X_train_1.mean(axis=0)\n",
        "\n",
        "cov_0 = np.zeros((D, D))\n",
        "for i in range(X_train_0.shape[0]):\n",
        "    W = (X_train_0[i] - M_0).reshape(-1, 1)\n",
        "    cov_0 += np.matmul(W, W.T)\n",
        "\n",
        "cov_1 = np.zeros((D, D))\n",
        "for i in range(X_train_1.shape[0]):\n",
        "    W = (X_train_1[i] - M_1).reshape(-1, 1)\n",
        "    cov_1 += np.matmul(W, W.T)\n",
        "\n",
        "S_w = cov_0 + cov_1\n",
        "S_w_inv = np.linalg.inv(S_w)\n",
        "W = np.matmul(S_w_inv, (M_1 - M_0)).reshape(-1, 1)\n",
        "W = W/np.linalg.norm(W,2)\n",
        "\n",
        "def predict(x, W, b):\n",
        "    return np.matmul(W.T, x) + b\n",
        "\n",
        "\n",
        "# Line Search\n",
        "best_b, best_acc = 0, 0\n",
        "lower = np.matmul(W.T, M_0)[0] - 5\n",
        "upper = np.matmul(W.T, M_1)[0] + 5\n",
        "for b in np.linspace(lower, upper, 1000):\n",
        "    acc = 0\n",
        "    for (i, X_i) in enumerate(X_train_0):\n",
        "        pred = predict(X_i.reshape(-1, 1), W, b)\n",
        "        if pred < 0:\n",
        "            acc += 1\n",
        "\n",
        "    for (i, X_i) in enumerate(X_train_1):\n",
        "        pred = predict(X_i.reshape(-1, 1), W, b)\n",
        "        if pred >= 0:\n",
        "            acc += 1\n",
        "\n",
        "    if acc > best_acc:\n",
        "        best_acc = acc\n",
        "        best_b = b\n",
        "    \n",
        "    # print(f'Bias {b}, Acc: {acc/X_train.shape[0]}, Best: {best_acc/X_train.shape[0]}')\n",
        "\n",
        "print('Train acc. =', best_acc/X_train.shape[0])\n",
        "\n",
        "b = best_b\n",
        "acc = 0\n",
        "for (i, X_i) in enumerate(X_test_0):\n",
        "    pred = predict(X_i.reshape(-1, 1), W, b)\n",
        "    if pred < 0:\n",
        "        acc += 1\n",
        "\n",
        "for (i, X_i) in enumerate(X_test_1):\n",
        "    pred = predict(X_i.reshape(-1, 1), W, b)\n",
        "    if pred >= 0:\n",
        "        acc += 1\n",
        "\n",
        "print(f'Test acc. = {acc/X_test.shape[0]}')\n",
        "\n",
        "# f1-score\n",
        "y_pred = []\n",
        "for X_i in X_train:\n",
        "    pred = predict(X_i.reshape(-1, 1), W, b)\n",
        "    if pred < 0:\n",
        "        y_pred.append(0)\n",
        "    else:\n",
        "        y_pred.append(1)\n",
        "y_pred = np.array(y_pred)\n",
        "print('F1-Score (train) = ', f1_score(y_train, y_pred))\n",
        "\n",
        "y_pred = []\n",
        "for X_i in X_test:\n",
        "    pred = predict(X_i.reshape(-1, 1), W, b)\n",
        "    if pred < 0:\n",
        "        y_pred.append(0)\n",
        "    else:\n",
        "        y_pred.append(1)\n",
        "y_pred = np.array(y_pred)\n",
        "\n",
        "print('F1-Score (test) = ', f1_score(y_test, y_pred))\n",
        "confusion_matrix(y_test, y_pred)"
      ],
      "execution_count": 8,
      "outputs": [
        {
          "output_type": "stream",
          "text": [
            "Train acc. = 0.7842857142857143\n",
            "Test acc. = 0.7866666666666666\n",
            "F1-Score (train) =  0.8549471661863592\n",
            "F1-Score (test) =  0.8558558558558559\n"
          ],
          "name": "stdout"
        },
        {
          "output_type": "execute_result",
          "data": {
            "text/plain": [
              "array([[ 46,  41],\n",
              "       [ 23, 190]])"
            ]
          },
          "metadata": {
            "tags": []
          },
          "execution_count": 8
        }
      ]
    },
    {
      "cell_type": "code",
      "metadata": {
        "id": "jMnD7AFBzg_e"
      },
      "source": [
        ""
      ],
      "execution_count": 7,
      "outputs": []
    },
    {
      "cell_type": "code",
      "metadata": {
        "id": "2MMPpvJTbReu"
      },
      "source": [
        ""
      ],
      "execution_count": null,
      "outputs": []
    },
    {
      "cell_type": "code",
      "metadata": {
        "id": "DsQmeF-EbRr4"
      },
      "source": [
        ""
      ],
      "execution_count": null,
      "outputs": []
    },
    {
      "cell_type": "code",
      "metadata": {
        "colab": {
          "base_uri": "https://localhost:8080/"
        },
        "id": "VgWSdfoGbR4a",
        "outputId": "05a8685e-15c9-4b28-8c45-d0466db93b26"
      },
      "source": [
        "from sklearn.preprocessing import PolynomialFeatures\n",
        "\n",
        "pf = PolynomialFeatures(degree=2)\n",
        "X_poly = pf.fit_transform(X)\n",
        "X_poly.shape"
      ],
      "execution_count": 13,
      "outputs": [
        {
          "output_type": "execute_result",
          "data": {
            "text/plain": [
              "(1000, 325)"
            ]
          },
          "metadata": {
            "tags": []
          },
          "execution_count": 13
        }
      ]
    },
    {
      "cell_type": "code",
      "metadata": {
        "colab": {
          "base_uri": "https://localhost:8080/"
        },
        "id": "0aUhZH6kbSJL",
        "outputId": "2d8b2186-593d-48bb-e3eb-97450de30404"
      },
      "source": [
        "X_train, X_test, y_train, y_test = train_test_split(X_poly, y, test_size=0.3)\n",
        "X_train.shape, y_train.shape, X_test.shape, y_test.shape\n",
        "\n",
        "D = X_train.shape[-1]\n",
        "X_train_0 = X_train[y_train == 0]\n",
        "X_train_1 = X_train[y_train == 1]\n",
        "X_test_0 = X_test[y_test == 0]\n",
        "X_test_1 = X_test[y_test == 1]\n",
        "\n",
        "M_0 = X_train_0.mean(axis=0)\n",
        "M_1 = X_train_1.mean(axis=0)\n",
        "\n",
        "cov_0 = np.zeros((D, D))\n",
        "for i in range(X_train_0.shape[0]):\n",
        "    W = (X_train_0[i] - M_0).reshape(-1, 1)\n",
        "    cov_0 += np.matmul(W, W.T)\n",
        "\n",
        "cov_1 = np.zeros((D, D))\n",
        "for i in range(X_train_1.shape[0]):\n",
        "    W = (X_train_1[i] - M_1).reshape(-1, 1)\n",
        "    cov_1 += np.matmul(W, W.T)\n",
        "\n",
        "S_w = cov_0 + cov_1\n",
        "S_w_inv = np.linalg.pinv(S_w)\n",
        "W = np.matmul(S_w_inv, (M_1 - M_0)).reshape(-1, 1)\n",
        "W = W/np.linalg.norm(W,2)\n",
        "\n",
        "def predict(x, W, b):\n",
        "    return np.matmul(W.T, x) + b\n",
        "\n",
        "\n",
        "# Line Search\n",
        "best_b, best_acc = 0, 0\n",
        "lower = np.matmul(W.T, M_0)[0] - 5\n",
        "upper = np.matmul(W.T, M_1)[0] + 5\n",
        "for b in np.linspace(lower, upper, 1000):\n",
        "    acc = 0\n",
        "    for (i, X_i) in enumerate(X_train_0):\n",
        "        pred = predict(X_i.reshape(-1, 1), W, b)\n",
        "        if pred < 0:\n",
        "            acc += 1\n",
        "\n",
        "    for (i, X_i) in enumerate(X_train_1):\n",
        "        pred = predict(X_i.reshape(-1, 1), W, b)\n",
        "        if pred >= 0:\n",
        "            acc += 1\n",
        "\n",
        "    if acc > best_acc:\n",
        "        best_acc = acc\n",
        "        best_b = b\n",
        "    \n",
        "    # print(f'Bias {b}, Acc: {acc/X_train.shape[0]}, Best: {best_acc/X_train.shape[0]}')\n",
        "\n",
        "print('Train acc. =', best_acc/X_train.shape[0])\n",
        "\n",
        "b = best_b\n",
        "acc = 0\n",
        "for (i, X_i) in enumerate(X_test_0):\n",
        "    pred = predict(X_i.reshape(-1, 1), W, b)\n",
        "    if pred < 0:\n",
        "        acc += 1\n",
        "\n",
        "for (i, X_i) in enumerate(X_test_1):\n",
        "    pred = predict(X_i.reshape(-1, 1), W, b)\n",
        "    if pred >= 0:\n",
        "        acc += 1\n",
        "\n",
        "print(f'Test acc. = {acc/X_test.shape[0]}')\n",
        "\n",
        "# f1-score\n",
        "y_pred = []\n",
        "for X_i in X_train:\n",
        "    pred = predict(X_i.reshape(-1, 1), W, b)\n",
        "    if pred < 0:\n",
        "        y_pred.append(0)\n",
        "    else:\n",
        "        y_pred.append(1)\n",
        "y_pred = np.array(y_pred)\n",
        "print('F1-Score (train) = ', f1_score(y_train, y_pred))\n",
        "\n",
        "y_pred = []\n",
        "for X_i in X_test:\n",
        "    pred = predict(X_i.reshape(-1, 1), W, b)\n",
        "    if pred < 0:\n",
        "        y_pred.append(0)\n",
        "    else:\n",
        "        y_pred.append(1)\n",
        "y_pred = np.array(y_pred)\n",
        "\n",
        "print('F1-Score (test) = ', f1_score(y_test, y_pred))\n",
        "confusion_matrix(y_test, y_pred)"
      ],
      "execution_count": 18,
      "outputs": [
        {
          "output_type": "stream",
          "text": [
            "Train acc. = 0.8942857142857142\n",
            "Test acc. = 0.6966666666666667\n",
            "F1-Score (train) =  0.924949290060852\n",
            "F1-Score (test) =  0.7719298245614036\n"
          ],
          "name": "stdout"
        },
        {
          "output_type": "execute_result",
          "data": {
            "text/plain": [
              "array([[ 55,  37],\n",
              "       [ 54, 154]])"
            ]
          },
          "metadata": {
            "tags": []
          },
          "execution_count": 18
        }
      ]
    },
    {
      "cell_type": "code",
      "metadata": {
        "id": "ULu3MylEby0E"
      },
      "source": [
        ""
      ],
      "execution_count": null,
      "outputs": []
    }
  ]
}