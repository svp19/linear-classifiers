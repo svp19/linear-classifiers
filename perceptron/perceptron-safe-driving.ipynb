{
 "cells": [
  {
   "cell_type": "code",
   "execution_count": 31,
   "metadata": {},
   "outputs": [],
   "source": [
    "import numpy as np\n",
    "from sklearn.utils import shuffle\n",
    "from sklearn.metrics import accuracy_score\n",
    "from sklearn.linear_model import Perceptron\n",
    "import matplotlib.pyplot as plt\n",
    "from sklearn.model_selection import train_test_split\n",
    "from sklearn.metrics import f1_score\n",
    "from sklearn.metrics import confusion_matrix\n",
    "\n",
    "class Perceptron_Custom:\n",
    "    def __init__(self, d, iter_num, transformation = False):\n",
    "        if transformation:\n",
    "            self.w = np.random.rand((d+1+3))\n",
    "        else:\n",
    "            self.w = np.random.rand((d+1))\n",
    "        self.iter = iter_num\n",
    "        self.transformation = transformation\n",
    "    \n",
    "    \n",
    "    def fit_sep(self, X, y):\n",
    "        if self.transformation:\n",
    "            X = self.feat_transform(X)\n",
    "        \n",
    "        X = self.augment_feats(X)\n",
    "        error_vec = []\n",
    "        w_vec = []\n",
    "        w_best = self.w\n",
    "        for iterations in range(0,self.iter):\n",
    "            error = 0\n",
    "            for i,examples in enumerate(X):\n",
    "                \n",
    "                product = np.dot(w_best, np.transpose(examples))\n",
    "                \n",
    "                if (y[i]==1 and product<0) :\n",
    "                    error+=1\n",
    "                    w_best = w_best + 0.01 *examples\n",
    "                elif y[i]==0 and product>0:\n",
    "                    error+=1\n",
    "                    w_best = w_best - 0.01 * examples\n",
    "            # print(error)\n",
    "            error_vec.append(error/X.shape[0])\n",
    "            w_vec.append(w_best)\n",
    "        index = error_vec.index(min(error_vec))\n",
    "        self.w = w_vec[index]\n",
    "        return error_vec\n",
    "                \n",
    "    \n",
    "    def augment_feats(self, X):\n",
    "        aug_X = np.ones((X.shape[0], X.shape[1]+1))\n",
    "        aug_X[:, :-1] = X\n",
    "        return aug_X\n",
    "    \n",
    "    def predict_examples(self, test_X):\n",
    "        if self.transformation:\n",
    "            test_X = self.feat_transform(test_X)\n",
    "        aug_test_X = self.augment_feats(test_X)\n",
    "        product = np.dot(self.w, np.transpose(aug_test_X))\n",
    "        \n",
    "        label = product>0\n",
    "        return label + np.zeros((label.shape))\n",
    "    \n",
    "    def feat_transform(self, X):\n",
    "        feat_trans = np.empty((X.shape[0],0))\n",
    "        feat_trans = np.append(feat_trans, X[:, 0].reshape(-1, 1), axis = 1)\n",
    "        feat_trans = np.append(feat_trans, X[:, 1].reshape(-1, 1), axis = 1)\n",
    "        feat_trans = np.append(feat_trans, (X[:, 0]**2).reshape(-1, 1), axis = 1)\n",
    "        feat_trans = np.append(feat_trans, (X[:, 1]**2).reshape(-1, 1), axis = 1)\n",
    "        feat_trans = np.append(feat_trans, np.multiply(X[:, 0], X[:, 1]).reshape(-1, 1), axis = 1)\n",
    "        \n",
    "        return feat_trans\n",
    "                               \n",
    "                \n",
    "    \n",
    "\n",
    "    \n",
    "# size of data ==> n X d\n",
    "# size of augmented data ==> n X (d+1)\n",
    "# size of y ==> n X 1\n",
    "# size of w ==> 1 X d+1"
   ]
  },
  {
   "cell_type": "code",
   "execution_count": 32,
   "metadata": {},
   "outputs": [],
   "source": [
    "import pandas as pd\n",
    "\n",
    "df = pd.read_csv('../train.csv', index_col=0)\n",
    "X = df.drop(['target'], axis=1).values\n",
    "y = df.target.values\n",
    "X_1 = X[y == 1]\n",
    "y_1 = y[y == 1]\n",
    "X_0 = X[y == 0][:X_1.shape[0], :]\n",
    "y_0 = y[y == 0][:X_1.shape[0]]\n",
    "X = np.concatenate((X_0, X_1), axis=0)\n",
    "y = np.concatenate((y_0, y_1), axis=0)\n"
   ]
  },
  {
   "cell_type": "code",
   "execution_count": 33,
   "metadata": {},
   "outputs": [
    {
     "name": "stdout",
     "output_type": "stream",
     "text": [
      "(43388, 57)\n",
      "(43388,)\n"
     ]
    }
   ],
   "source": [
    "print(X.shape)\n",
    "print(y.shape)"
   ]
  },
  {
   "cell_type": "code",
   "execution_count": 39,
   "metadata": {},
   "outputs": [],
   "source": [
    "X_train, X_test, y_train, y_test = train_test_split(X, y, test_size=0.3)\n",
    "X_train.shape, y_train.shape, X_test.shape, y_test.shape\n",
    "\n",
    "D = 57\n",
    "X_train_0 = X_train[y_train == 0]\n",
    "X_train_1 = X_train[y_train == 1]\n",
    "X_test_0 = X_test[y_test == 0]\n",
    "X_test_1 = X_test[y_test == 1]\n",
    "X_train = np.append(X_train_1, X_train_0, axis = 0)\n",
    "X_test = np.append(X_test_1, X_test_0, axis = 0)\n",
    "\n",
    "# generate labels\n",
    "y_train = np.append(np.ones((int(X_train_1.shape[0]))), np.zeros((int(X_train_0.shape[0]))), axis = 0)\n",
    "y_test = np.append(np.ones((int(X_test_1.shape[0]))), np.zeros((int(X_test_0.shape[0]))), axis = 0)"
   ]
  },
  {
   "cell_type": "code",
   "execution_count": 40,
   "metadata": {},
   "outputs": [],
   "source": [
    "percep = Perceptron_Custom(D, 500, transformation = False)\n"
   ]
  },
  {
   "cell_type": "code",
   "execution_count": null,
   "metadata": {},
   "outputs": [],
   "source": []
  },
  {
   "cell_type": "code",
   "execution_count": 41,
   "metadata": {},
   "outputs": [],
   "source": [
    "X_shuff, y_shuff = shuffle(X_train, y_train)\n",
    "    \n",
    "error_vec = percep.fit_sep(X_shuff, y_shuff)\n"
   ]
  },
  {
   "cell_type": "code",
   "execution_count": 44,
   "metadata": {},
   "outputs": [
    {
     "name": "stdout",
     "output_type": "stream",
     "text": [
      "0.5102894208290804\n",
      "0.6611686980293883\n"
     ]
    },
    {
     "data": {
      "text/plain": [
       "array([[  987,   660],\n",
       "       [14213, 14511]])"
      ]
     },
     "execution_count": 44,
     "metadata": {},
     "output_type": "execute_result"
    }
   ],
   "source": [
    "# generate predictions\n",
    "test_pred = percep.predict_examples(X_train)\n",
    "\n",
    "# determine test accuracy\n",
    "acc = accuracy_score(test_pred, y_train)\n",
    "print(acc)\n",
    "# determine F-1 score\n",
    "f1 = f1_score(test_pred, y_train)\n",
    "print(f1)\n",
    "\n",
    "\n",
    "# confusion matrix\n",
    "confusion_matrix(test_pred, y_train)"
   ]
  },
  {
   "cell_type": "code",
   "execution_count": 20,
   "metadata": {},
   "outputs": [
    {
     "data": {
      "text/plain": [
       "[<matplotlib.lines.Line2D at 0x135ce25f8>]"
      ]
     },
     "execution_count": 20,
     "metadata": {},
     "output_type": "execute_result"
    },
    {
     "data": {
      "image/png": "[encoded data removed]",
      "text/plain": [
       "<Figure size 432x288 with 1 Axes>"
      ]
     },
     "metadata": {
      "needs_background": "light"
     },
     "output_type": "display_data"
    }
   ],
   "source": [
    "plt.plot(error_vec)"
   ]
  },
  {
   "cell_type": "code",
   "execution_count": null,
   "metadata": {},
   "outputs": [],
   "source": []
  }
 ],
 "metadata": {
  "kernelspec": {
   "display_name": "Python 3",
   "language": "python",
   "name": "python3"
  },
  "language_info": {
   "codemirror_mode": {
    "name": "ipython",
    "version": 3
   },
   "file_extension": ".py",
   "mimetype": "text/x-python",
   "name": "python",
   "nbconvert_exporter": "python",
   "pygments_lexer": "ipython3",
   "version": "3.7.3"
  }
 },
 "nbformat": 4,
 "nbformat_minor": 4
}
