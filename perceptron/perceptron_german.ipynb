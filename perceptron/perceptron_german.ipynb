{
 "cells": [
  {
   "cell_type": "code",
   "execution_count": 73,
   "metadata": {},
   "outputs": [],
   "source": [
    "import numpy as np\n",
    "from sklearn.utils import shuffle\n",
    "from sklearn.metrics import accuracy_score\n",
    "from sklearn.linear_model import Perceptron\n",
    "import matplotlib.pyplot as plt\n",
    "from sklearn.model_selection import train_test_split\n",
    "from sklearn.metrics import f1_score\n",
    "from sklearn.metrics import confusion_matrix\n",
    "\n",
    "class Perceptron_Custom:\n",
    "    def __init__(self, d, iter_num, transformation = False):\n",
    "        if transformation:\n",
    "            self.w = np.random.rand((d+1+3))\n",
    "        else:\n",
    "            self.w = np.random.rand((d+1))\n",
    "        self.iter = iter_num\n",
    "        self.transformation = transformation\n",
    "    \n",
    "    \n",
    "    def fit_sep(self, X, y):\n",
    "        if self.transformation:\n",
    "            X = self.feat_transform(X)\n",
    "        \n",
    "        X = self.augment_feats(X)\n",
    "        error_vec = []\n",
    "        w_vec = []\n",
    "        w_best = self.w\n",
    "        for iterations in range(0,self.iter):\n",
    "            error = 0\n",
    "            for i,examples in enumerate(X):\n",
    "                \n",
    "                product = np.dot(w_best, np.transpose(examples))\n",
    "                \n",
    "                if (y[i]==1 and product<0) :\n",
    "                    error+=1\n",
    "                    w_best = w_best + 0.01 *examples\n",
    "                elif y[i]==0 and product>0:\n",
    "                    error+=1\n",
    "                    w_best = w_best - 0.01 * examples\n",
    "            # print(error)\n",
    "            error_vec.append(error/X.shape[0])\n",
    "            w_vec.append(w_best)\n",
    "        index = error_vec.index(min(error_vec))\n",
    "        self.w = w_vec[index]\n",
    "        return error_vec\n",
    "                \n",
    "    \n",
    "    def augment_feats(self, X):\n",
    "        aug_X = np.ones((X.shape[0], X.shape[1]+1))\n",
    "        aug_X[:, :-1] = X\n",
    "        return aug_X\n",
    "    \n",
    "    def predict_examples(self, test_X):\n",
    "        if self.transformation:\n",
    "            test_X = self.feat_transform(test_X)\n",
    "        aug_test_X = self.augment_feats(test_X)\n",
    "        product = np.dot(self.w, np.transpose(aug_test_X))\n",
    "        \n",
    "        label = product>0\n",
    "        return label + np.zeros((label.shape))\n",
    "    \n",
    "    def feat_transform(self, X):\n",
    "        feat_trans = np.empty((X.shape[0],0))\n",
    "        feat_trans = np.append(feat_trans, X[:, 0].reshape(-1, 1), axis = 1)\n",
    "        feat_trans = np.append(feat_trans, X[:, 1].reshape(-1, 1), axis = 1)\n",
    "        feat_trans = np.append(feat_trans, (X[:, 0]**2).reshape(-1, 1), axis = 1)\n",
    "        feat_trans = np.append(feat_trans, (X[:, 1]**2).reshape(-1, 1), axis = 1)\n",
    "        feat_trans = np.append(feat_trans, np.multiply(X[:, 0], X[:, 1]).reshape(-1, 1), axis = 1)\n",
    "        \n",
    "        return feat_trans\n",
    "                               \n",
    "                \n",
    "    \n",
    "\n",
    "    \n",
    "# size of data ==> n X d\n",
    "# size of augmented data ==> n X (d+1)\n",
    "# size of y ==> n X 1\n",
    "# size of w ==> 1 X d+1"
   ]
  },
  {
   "cell_type": "code",
   "execution_count": 74,
   "metadata": {},
   "outputs": [
    {
     "data": {
      "text/plain": [
       "(1000, 25)"
      ]
     },
     "execution_count": 74,
     "metadata": {},
     "output_type": "execute_result"
    }
   ],
   "source": [
    "data_arr = np.loadtxt('../german.data-numeric')\n",
    "data_arr.shape"
   ]
  },
  {
   "cell_type": "code",
   "execution_count": 75,
   "metadata": {},
   "outputs": [
    {
     "data": {
      "text/plain": [
       "((1000, 24), (1000,))"
      ]
     },
     "execution_count": 75,
     "metadata": {},
     "output_type": "execute_result"
    }
   ],
   "source": [
    "X, y = data_arr[:, :24], data_arr[:, -1]\n",
    "y[y == 2] = 0\n",
    "X.shape, y.shape"
   ]
  },
  {
   "cell_type": "markdown",
   "metadata": {},
   "source": [
    "80:20 split"
   ]
  },
  {
   "cell_type": "code",
   "execution_count": 87,
   "metadata": {},
   "outputs": [],
   "source": [
    "X_train, X_test, y_train, y_test = train_test_split(X, y, test_size=0.3)\n",
    "X_train.shape, y_train.shape, X_test.shape, y_test.shape\n",
    "\n",
    "D = 24\n",
    "X_train_0 = X_train[y_train == 0]\n",
    "X_train_1 = X_train[y_train == 1]\n",
    "X_test_0 = X_test[y_test == 0]\n",
    "X_test_1 = X_test[y_test == 1]\n",
    "X_train = np.append(X_train_1, X_train_0, axis = 0)\n",
    "X_test = np.append(X_test_1, X_test_0, axis = 0)\n",
    "\n",
    "# generate labels\n",
    "y_train = np.append(np.ones((int(X_train_1.shape[0]))), np.zeros((int(X_train_0.shape[0]))), axis = 0)\n",
    "y_test = np.append(np.ones((int(X_test_1.shape[0]))), np.zeros((int(X_test_0.shape[0]))), axis = 0)"
   ]
  },
  {
   "cell_type": "markdown",
   "metadata": {},
   "source": [
    "70:30 split\n"
   ]
  },
  {
   "cell_type": "code",
   "execution_count": 88,
   "metadata": {},
   "outputs": [],
   "source": [
    "# X_train, X_test, y_train, y_test = train_test_split(X, y, test_size=0.3)\n",
    "# X_train.shape, y_train.shape, X_test.shape, y_test.shape\n",
    "\n",
    "# D = 24\n",
    "# X_train_0 = X_train[y_train == 0]\n",
    "# X_train_1 = X_train[y_train == 1]\n",
    "# X_test_0 = X_test[y_test == 0]\n",
    "# X_test_1 = X_test[y_test == 1]\n",
    "# X_train = np.append(X_train_1, X_train_0, axis = 0)\n",
    "# X_test = np.append(X_test_1, X_test_0, axis = 0)\n",
    "\n",
    "# # generate labels\n",
    "# y_train = np.append(np.ones((int(X_train_1.shape[0]))), np.zeros((int(X_train_0.shape[0]))), axis = 0)\n",
    "# y_test = np.append(np.ones((int(X_test_1.shape[0]))), np.zeros((int(X_test_0.shape[0]))), axis = 0)"
   ]
  },
  {
   "cell_type": "code",
   "execution_count": 89,
   "metadata": {},
   "outputs": [
    {
     "name": "stdout",
     "output_type": "stream",
     "text": [
      "(700, 24)\n",
      "(300, 24)\n",
      "(700,)\n",
      "(300,)\n"
     ]
    }
   ],
   "source": [
    "print(X_train.shape)\n",
    "print(X_test.shape)\n",
    "print(y_train.shape)\n",
    "print(y_test.shape)"
   ]
  },
  {
   "cell_type": "code",
   "execution_count": 90,
   "metadata": {},
   "outputs": [],
   "source": [
    "\n",
    "percep = Perceptron_Custom(D, 5000, transformation = False)\n"
   ]
  },
  {
   "cell_type": "code",
   "execution_count": 91,
   "metadata": {},
   "outputs": [],
   "source": [
    "X_shuff, y_shuff = shuffle(X_train, y_train)\n",
    "    \n",
    "error_vec = percep.fit_sep(X_shuff, y_shuff)\n"
   ]
  },
  {
   "cell_type": "code",
   "execution_count": 93,
   "metadata": {},
   "outputs": [
    {
     "name": "stdout",
     "output_type": "stream",
     "text": [
      "0.7242857142857143\n",
      "0.7908992416034669\n"
     ]
    },
    {
     "data": {
      "text/plain": [
       "array([[142, 128],\n",
       "       [ 65, 365]])"
      ]
     },
     "execution_count": 93,
     "metadata": {},
     "output_type": "execute_result"
    }
   ],
   "source": [
    "# generate predictions\n",
    "test_pred = percep.predict_examples(X_train)\n",
    "\n",
    "# determine test accuracy\n",
    "acc = accuracy_score(test_pred, y_train)\n",
    "print(acc)\n",
    "# determine F-1 score\n",
    "f1 = f1_score(test_pred, y_train)\n",
    "print(f1)\n",
    "\n",
    "\n",
    "# confusion matrix\n",
    "confusion_matrix(test_pred, y_train)"
   ]
  },
  {
   "cell_type": "code",
   "execution_count": 49,
   "metadata": {},
   "outputs": [
    {
     "data": {
      "text/plain": [
       "[<matplotlib.lines.Line2D at 0x13001b518>]"
      ]
     },
     "execution_count": 49,
     "metadata": {},
     "output_type": "execute_result"
    },
    {
     "data": {
      "image/png": "[encoded data removed]",
      "text/plain": [
       "<Figure size 432x288 with 1 Axes>"
      ]
     },
     "metadata": {
      "needs_background": "light"
     },
     "output_type": "display_data"
    }
   ],
   "source": [
    "plt.plot(error_vec)"
   ]
  },
  {
   "cell_type": "code",
   "execution_count": null,
   "metadata": {},
   "outputs": [],
   "source": []
  },
  {
   "cell_type": "code",
   "execution_count": null,
   "metadata": {},
   "outputs": [],
   "source": []
  }
 ],
 "metadata": {
  "kernelspec": {
   "display_name": "Python 3",
   "language": "python",
   "name": "python3"
  },
  "language_info": {
   "codemirror_mode": {
    "name": "ipython",
    "version": 3
   },
   "file_extension": ".py",
   "mimetype": "text/x-python",
   "name": "python",
   "nbconvert_exporter": "python",
   "pygments_lexer": "ipython3",
   "version": "3.7.3"
  }
 },
 "nbformat": 4,
 "nbformat_minor": 4
}
