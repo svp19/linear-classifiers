{
  "nbformat": 4,
  "nbformat_minor": 0,
  "metadata": {
    "colab": {
      "name": "Logistic_regression.ipynb",
      "provenance": [],
      "collapsed_sections": [],
      "toc_visible": true
    },
    "kernelspec": {
      "name": "python3",
      "display_name": "Python 3"
    },
    "language_info": {
      "name": "python"
    }
  },
  "cells": [
    {
      "cell_type": "code",
      "metadata": {
        "id": "Zvhs0Dykn_4f"
      },
      "source": [
        "import numpy"
      ],
      "execution_count": null,
      "outputs": []
    },
    {
      "cell_type": "code",
      "metadata": {
        "id": "4fINY3DboHUu"
      },
      "source": [
        "class LogisticRegressionModel:\n",
        "  W=0\n",
        "  def __init__(self, shape):\n",
        "    self.W = numpy.zeros((shape+1,1))\n",
        "  \n",
        "  def sigmoid(self, value):\n",
        "    return 1/(1+numpy.exp(-value))\n",
        "  \n",
        "  def sigmoid_derv(value):\n",
        "    return self.sigmoid(value)*(1-self.sigmoid(value))\n",
        "\n",
        "  def fit(self, X, Y, itr=100, const=0.001):\n",
        "    # augmenting X\n",
        "    X = numpy.concatenate((numpy.ones((X.shape[0],1)), X), axis=1)\n",
        "    for i in range(itr):\n",
        "      self.W = self.W - (const*(numpy.matmul(X.T, self.sigmoid(numpy.matmul(X, self.W)) - Y)))\n",
        "  \n",
        "  def predict(self, X):\n",
        "    # augment X\n",
        "    X = numpy.concatenate((numpy.ones((X.shape[0],1)), X), axis=1)\n",
        "    predictions = self.sigmoid(numpy.matmul(X, self.W))\n",
        "    predictions[predictions < 0.5] = 0\n",
        "    predictions[predictions >= 0.5] = 1\n",
        "    return predictions\n",
        "\n",
        "  def LMS_error(self, X, Y):\n",
        "    # augment X\n",
        "    X = numpy.concatenate((numpy.ones((X.shape[0],1)), X), axis=1)\n",
        "    return numpy.square(numpy.linalg.norm(numpy.matmul(X, self.W) - Y))"
      ],
      "execution_count": null,
      "outputs": []
    },
    {
      "cell_type": "code",
      "metadata": {
        "id": "d_zgMO3hridh"
      },
      "source": [
        "X = numpy.array([[1,0,1], [0,1,1], [1,1,0], [1,1,1], [2,2,2]])\n",
        "Y = numpy.array([[1],[1],[1],[0],[0]])\n",
        "lr = LogisticRegressionModel(X.shape[1])"
      ],
      "execution_count": null,
      "outputs": []
    },
    {
      "cell_type": "code",
      "metadata": {
        "id": "1Qga0zVdrk4o"
      },
      "source": [
        "lr.fit(X, Y, 100, 0.00001)"
      ],
      "execution_count": null,
      "outputs": []
    },
    {
      "cell_type": "code",
      "metadata": {
        "colab": {
          "base_uri": "https://localhost:8080/"
        },
        "id": "IhZ7ZydJrpyJ",
        "outputId": "92c40d49-bc1f-449f-8255-1646baeaac49"
      },
      "source": [
        "test = numpy.array([[0,0,0], [1,1,1], [2,2,2],[10,10,10],[-1,1,-1]])\n",
        "print(lr.predict(test))"
      ],
      "execution_count": null,
      "outputs": [
        {
          "output_type": "stream",
          "text": [
            "[[1.]\n",
            " [0.]\n",
            " [0.]\n",
            " [0.]\n",
            " [1.]]\n"
          ],
          "name": "stdout"
        }
      ]
    },
    {
      "cell_type": "code",
      "metadata": {
        "id": "n1Z443dAKzVC"
      },
      "source": [
        "def LMS_error(y, y_hat):\n",
        "  return numpy.square(numpy.linalg.norm(y_hat - y))"
      ],
      "execution_count": null,
      "outputs": []
    },
    {
      "cell_type": "code",
      "metadata": {
        "id": "9NlDgOSCkeOi"
      },
      "source": [
        "def get_dataset(means, covariance, priors, train_size, test_size, covariance_1=numpy.zeros((1,1))):\n",
        "  X_train_0 = numpy.random.multivariate_normal(mean=means[0], cov=covariance, size=int(train_size*priors[0]))\n",
        "  X_test_0 = numpy.random.multivariate_normal(mean=means[0], cov=covariance, size=int(test_size*priors[0]))\n",
        "  if covariance_1.all() != 0:\n",
        "    X_train_1 = numpy.random.multivariate_normal(mean=means[1], cov=covariance_1, size=int(train_size*priors[1]))\n",
        "    X_test_1 = numpy.random.multivariate_normal(mean=means[1], cov=covariance_1, size=int(test_size*priors[1]))\n",
        "  else:\n",
        "    X_train_1 = numpy.random.multivariate_normal(mean=means[1], cov=covariance, size=int(train_size*priors[1]))\n",
        "    X_test_1 = numpy.random.multivariate_normal(mean=means[1], cov=covariance, size=int(test_size*priors[1]))\n",
        "  X_train = numpy.vstack((X_train_0, X_train_1))\n",
        "  X_test = numpy.vstack((X_test_0, X_test_1))\n",
        "\n",
        "  y_train = numpy.vstack((\n",
        "      numpy.repeat(0, int(train_size*priors[0])).reshape(-1, 1),\n",
        "      numpy.repeat(1, int(train_size*priors[1])).reshape(-1, 1)\n",
        "  ))\n",
        "  y_test = numpy.vstack((\n",
        "      numpy.repeat(0, int(test_size*priors[0])).reshape(-1, 1),\n",
        "      numpy.repeat(1, int(test_size*priors[1])).reshape(-1, 1)\n",
        "  ))\n",
        "  return X_train, X_test, y_train, y_test"
      ],
      "execution_count": null,
      "outputs": []
    },
    {
      "cell_type": "code",
      "metadata": {
        "colab": {
          "base_uri": "https://localhost:8080/"
        },
        "id": "D-o3uGG41DI-",
        "outputId": "3053e48a-eb7a-4541-bf81-8d6745394fc5"
      },
      "source": [
        "D = 10\n",
        "means = [numpy.repeat(0, D).reshape(-1), numpy.repeat(1, D).reshape(-1)]\n",
        "covariance = numpy.identity(D)\n",
        "priors = [0.5, 0.5]\n",
        "train_size, test_size = 2000, 1000\n",
        "X_train, X_test, y_train, y_test = get_dataset(means, covariance, priors, train_size, test_size)\n",
        "\n",
        "X_train.shape, y_train.shape, X_test.shape, y_test.shape"
      ],
      "execution_count": null,
      "outputs": [
        {
          "output_type": "execute_result",
          "data": {
            "text/plain": [
              "((2000, 10), (2000, 1), (1000, 10), (1000, 1))"
            ]
          },
          "metadata": {
            "tags": []
          },
          "execution_count": 40
        }
      ]
    },
    {
      "cell_type": "code",
      "metadata": {
        "id": "yka73iDIkh8u"
      },
      "source": [
        "from sklearn.linear_model import LogisticRegression\n",
        "from sklearn.metrics import accuracy_score\n",
        "# Sklearn Logistic Regressor\n",
        "reg = LogisticRegression().fit(X_train, y_train.reshape(-1))\n",
        "predict = reg.predict(X_test)\n",
        "predict[predict < 0.5] = 0\n",
        "predict[predict >= 0.5] = 1"
      ],
      "execution_count": null,
      "outputs": []
    },
    {
      "cell_type": "code",
      "metadata": {
        "id": "CjedmUmwknB9"
      },
      "source": [
        "# Linear Regression Model\n",
        "lr = LogisticRegressionModel(X_train.shape[1])\n",
        "lr.fit(X_train, y_train)"
      ],
      "execution_count": null,
      "outputs": []
    },
    {
      "cell_type": "code",
      "metadata": {
        "colab": {
          "base_uri": "https://localhost:8080/"
        },
        "id": "Yjy4AlOcknsY",
        "outputId": "7774518a-65b6-4245-e9d7-6c8e93ff53fa"
      },
      "source": [
        "from sklearn.metrics import confusion_matrix, f1_score, accuracy_score\n",
        "print(\"Sklearn Regression Model Accuracy {0:8.2f} test %\".format(accuracy_score(y_test.reshape(-1), predict)*100))\n",
        "print(\"Sklearn f_1\", f1_score(y_test, predict))\n",
        "print(\"Logistic Regression Model Accuracy {0:8.2f} % test\".format(accuracy_score(y_test.reshape(-1), lr.predict(X_test))*100))\n",
        "print(\"Logistic f_1\", f1_score(y_test, lr.predict(X_test)))\n",
        "predict_train = reg.predict(X_train)\n",
        "predict_train[predict_train < 0.5] = 0\n",
        "predict_train[predict_train >= 0.5] = 1\n",
        "print(\"Sklearn Regression Model Accuracy {0:8.2f} train %\".format(accuracy_score(y_train.reshape(-1), predict_train)*100))\n",
        "print(\"Sklearn f_1\", f1_score(y_train, predict_train))\n",
        "print(\"Logistic Regression Model Accuracy {0:8.2f} % train\".format(accuracy_score(y_train.reshape(-1), lr.predict(X_train))*100))\n",
        "print(\"Logistic f_1\", f1_score(y_train, lr.predict(X_train)))"
      ],
      "execution_count": null,
      "outputs": [
        {
          "output_type": "stream",
          "text": [
            "Sklearn Regression Model Accuracy    95.00 test %\n",
            "Sklearn f_1 0.9500000000000001\n",
            "Logistic Regression Model Accuracy    95.00 % test\n",
            "Logistic f_1 0.9500998003992016\n",
            "Sklearn Regression Model Accuracy    94.65 train %\n",
            "Sklearn f_1 0.9465267366316842\n",
            "Logistic Regression Model Accuracy    94.50 % train\n",
            "Logistic f_1 0.945219123505976\n"
          ],
          "name": "stdout"
        }
      ]
    },
    {
      "cell_type": "code",
      "metadata": {
        "colab": {
          "base_uri": "https://localhost:8080/"
        },
        "id": "T4Mp9L43-rkU",
        "outputId": "bdf678da-9641-4bbe-d232-30181eda493d"
      },
      "source": [
        "from sklearn.metrics import confusion_matrix, f1_score\n",
        "print(confusion_matrix(y_test, lr.predict(X_test)))"
      ],
      "execution_count": null,
      "outputs": [
        {
          "output_type": "stream",
          "text": [
            "[[474  26]\n",
            " [ 24 476]]\n"
          ],
          "name": "stdout"
        }
      ]
    },
    {
      "cell_type": "code",
      "metadata": {
        "id": "k4LHjjWclOy5",
        "colab": {
          "base_uri": "https://localhost:8080/"
        },
        "outputId": "9e224798-8fe0-428b-9b0a-d9ea810896aa"
      },
      "source": [
        "# Create separate datasets for comparison with varying priors\n",
        "prior_values = numpy.arange(0.1,1,0.1)\n",
        "accuracy_values_model = []\n",
        "accuracy_values_sklearn = []\n",
        "for i in range(len(prior_values)):\n",
        "  print(\"Evaluating on prior ({0},{1})\".format(round(prior_values[i],1), round(1-prior_values[i], 1)))\n",
        "  D = 10\n",
        "  means = [numpy.repeat(0, D).reshape(-1), numpy.repeat(1, D).reshape(-1)]\n",
        "  covariance = numpy.identity(D)\n",
        "  priors = [prior_values[i], 1-prior_values[i]]\n",
        "  train_size, test_size = 4000, 2000\n",
        "  X_train, X_test, y_train, y_test = get_dataset(means, covariance, priors, train_size, test_size)\n",
        "  lr = LogisticRegressionModel(X_train.shape[1])\n",
        "  lr.fit(X_train, y_train)\n",
        "  reg = LogisticRegression().fit(X_train, y_train.reshape(-1))\n",
        "  predict = reg.predict(X_test)\n",
        "  predict[predict < 0.5] = 0\n",
        "  predict[predict >= 0.5] = 1\n",
        "  accuracy_values_sklearn.append(accuracy_score(y_test.reshape(-1), predict))\n",
        "  accuracy_values_model.append(round(accuracy_score(y_test, lr.predict(X_test)), 3))"
      ],
      "execution_count": null,
      "outputs": [
        {
          "output_type": "stream",
          "text": [
            "Evaluating on prior (0.1,0.9)\n",
            "Evaluating on prior (0.2,0.8)\n",
            "Evaluating on prior (0.3,0.7)\n",
            "Evaluating on prior (0.4,0.6)\n",
            "Evaluating on prior (0.5,0.5)\n",
            "Evaluating on prior (0.6,0.4)\n",
            "Evaluating on prior (0.7,0.3)\n",
            "Evaluating on prior (0.8,0.2)\n",
            "Evaluating on prior (0.9,0.1)\n"
          ],
          "name": "stdout"
        }
      ]
    },
    {
      "cell_type": "code",
      "metadata": {
        "colab": {
          "base_uri": "https://localhost:8080/",
          "height": 295
        },
        "id": "aJ7ij2H36eNt",
        "outputId": "d03f9b4f-b05d-4b99-bc35-1d8f1ec9913e"
      },
      "source": [
        "import matplotlib.pyplot as plt\n",
        "plt.plot(prior_values, accuracy_values_model, label=\"model\")\n",
        "plt.plot(prior_values, accuracy_values_sklearn, label=\"sklean\")\n",
        "plt.xlabel(\"Priors\")\n",
        "plt.ylabel(\"Accuracy\")\n",
        "plt.title(\"Accuracy vs Prior (Logistic)\")\n",
        "plt.legend()\n",
        "plt.show()"
      ],
      "execution_count": null,
      "outputs": [
        {
          "output_type": "display_data",
          "data": {
            "image/png": "[encoded data removed]",
            "text/plain": [
              "<Figure size 432x288 with 1 Axes>"
            ]
          },
          "metadata": {
            "tags": [],
            "needs_background": "light"
          }
        }
      ]
    },
    {
      "cell_type": "code",
      "metadata": {
        "colab": {
          "base_uri": "https://localhost:8080/"
        },
        "id": "lAG9ufM86Q38",
        "outputId": "7d5187ee-0f8b-493d-af5b-2be5c2fb76d9"
      },
      "source": [
        "accuracy_values_model"
      ],
      "execution_count": null,
      "outputs": [
        {
          "output_type": "execute_result",
          "data": {
            "text/plain": [
              "[0.966, 0.952, 0.943, 0.944, 0.948, 0.942, 0.942, 0.956, 0.971]"
            ]
          },
          "metadata": {
            "tags": []
          },
          "execution_count": 16
        }
      ]
    },
    {
      "cell_type": "code",
      "metadata": {
        "colab": {
          "base_uri": "https://localhost:8080/"
        },
        "id": "et3vrDDr6nTz",
        "outputId": "3e2a714e-cee9-4951-8c33-dab08db9fb4c"
      },
      "source": [
        "D = 2\n",
        "means = [numpy.repeat(0, D).reshape(-1), numpy.repeat(1, D).reshape(-1)]\n",
        "covariance = numpy.identity(D)\n",
        "priors = [0.5, 0.5]\n",
        "train_size, test_size = 2000, 1000\n",
        "X_train, X_test, y_train, y_test = get_dataset(means, covariance, priors, train_size, test_size)\n",
        "\n",
        "X_train.shape, y_train.shape, X_test.shape, y_test.shape"
      ],
      "execution_count": null,
      "outputs": [
        {
          "output_type": "execute_result",
          "data": {
            "text/plain": [
              "((2000, 2), (2000, 1), (1000, 2), (1000, 1))"
            ]
          },
          "metadata": {
            "tags": []
          },
          "execution_count": 45
        }
      ]
    },
    {
      "cell_type": "code",
      "metadata": {
        "id": "GAAT5dnLCltc"
      },
      "source": [
        "lr = LogisticRegressionModel(X_train.shape[1])\n",
        "lr.fit(X_train, y_train)"
      ],
      "execution_count": null,
      "outputs": []
    },
    {
      "cell_type": "code",
      "metadata": {
        "colab": {
          "base_uri": "https://localhost:8080/",
          "height": 295
        },
        "id": "Al0lyabXCorg",
        "outputId": "5131e262-b116-45ae-e3be-bc2da913c226"
      },
      "source": [
        "plt.scatter(X_train[:,0], X_train[:,1], c=y_train)\n",
        "w_0 = lr.W[0]\n",
        "w = lr.W[1:]\n",
        "x = numpy.arange(-5,5,0.5)\n",
        "y = (-w_0 -(x*w[0]))/w[1]\n",
        "plt.plot(x,y, label=\"Decision Boundary\")\n",
        "plt.xlabel(\"x1\")\n",
        "plt.ylabel(\"x2\")\n",
        "plt.title(\"Decision Boundary (Logistic)\")\n",
        "plt.legend()\n",
        "plt.show()"
      ],
      "execution_count": null,
      "outputs": [
        {
          "output_type": "display_data",
          "data": {
            "image/png": "[encoded data removed]",
            "text/plain": [
              "<Figure size 432x288 with 1 Axes>"
            ]
          },
          "metadata": {
            "tags": [],
            "needs_background": "light"
          }
        }
      ]
    },
    {
      "cell_type": "code",
      "metadata": {
        "colab": {
          "base_uri": "https://localhost:8080/"
        },
        "id": "jwb8QktcHbA5",
        "outputId": "f1aa8704-b041-4588-dc0c-bde2e2950729"
      },
      "source": [
        "from sklearn.metrics import confusion_matrix, f1_score\n",
        "print(\"Logistic Regression Model Accuracy {0:8.2f} % test\".format(accuracy_score(y_test, lr.predict(X_test))*100))\n",
        "print(\"Logistic f_1\", f1_score(y_test, lr.predict(X_test)))\n",
        "print(confusion_matrix(y_test, lr.predict(X_test)))\n",
        "print(\"Logistic Regression Model Accuracy {0:8.2f} % train\".format(accuracy_score(y_train, lr.predict(X_train))*100))\n",
        "print(\"Logistic f_1\", f1_score(y_train, lr.predict(X_train)))"
      ],
      "execution_count": null,
      "outputs": [
        {
          "output_type": "stream",
          "text": [
            "Logistic Regression Model Accuracy    75.90 % test\n",
            "Logistic f_1 0.7587587587587586\n",
            "[[380 120]\n",
            " [121 379]]\n",
            "Logistic Regression Model Accuracy    76.35 % train\n",
            "Logistic f_1 0.7629072681704261\n"
          ],
          "name": "stdout"
        }
      ]
    },
    {
      "cell_type": "markdown",
      "metadata": {
        "id": "a9kXWJ_gMsz3"
      },
      "source": [
        "#1(c) Logistic Regression"
      ]
    },
    {
      "cell_type": "code",
      "metadata": {
        "colab": {
          "base_uri": "https://localhost:8080/"
        },
        "id": "F6Tcwm1gDGfd",
        "outputId": "637ca019-8659-4c3a-d38c-af1a57b473e0"
      },
      "source": [
        "D = 2\n",
        "means = [numpy.repeat(0, D).reshape(-1), numpy.repeat(0, D).reshape(-1)]\n",
        "covariances = [numpy.identity(D) , numpy.array([[1,0.9],[0.9,1]])]\n",
        "priors = [0.5, 0.5]\n",
        "train_size, test_size = 2000, 1000\n",
        "X_train, X_test, y_train, y_test = get_dataset(means, covariances[0], priors, train_size, test_size, covariances[1])\n",
        "\n",
        "X_train.shape, y_train.shape, X_test.shape, y_test.shape"
      ],
      "execution_count": null,
      "outputs": [
        {
          "output_type": "execute_result",
          "data": {
            "text/plain": [
              "((2000, 2), (2000, 1), (1000, 2), (1000, 1))"
            ]
          },
          "metadata": {
            "tags": []
          },
          "execution_count": 59
        }
      ]
    },
    {
      "cell_type": "code",
      "metadata": {
        "id": "AzWSIyIkMzgi"
      },
      "source": [
        "# Logistic Regression Model\n",
        "lr = LogisticRegressionModel(X_train.shape[1])\n",
        "lr.fit(X_train, y_train)"
      ],
      "execution_count": null,
      "outputs": []
    },
    {
      "cell_type": "code",
      "metadata": {
        "colab": {
          "base_uri": "https://localhost:8080/"
        },
        "id": "KtTHr1zUM1-T",
        "outputId": "a215befa-2be7-48fd-eb5c-9ab2d4cf1ea7"
      },
      "source": [
        "print(\"Logistic Regression Model Accuracy {0:8.2f} %\".format(accuracy_score(y_test, lr.predict(X_test))*100))"
      ],
      "execution_count": null,
      "outputs": [
        {
          "output_type": "stream",
          "text": [
            "Logistic Regression Model Accuracy    51.30 %\n"
          ],
          "name": "stdout"
        }
      ]
    },
    {
      "cell_type": "code",
      "metadata": {
        "colab": {
          "base_uri": "https://localhost:8080/",
          "height": 295
        },
        "id": "i0gpq7e9M4cm",
        "outputId": "19c88147-b6b0-4d5e-c642-5fd91adf1ded"
      },
      "source": [
        "plt.scatter(X_train[:,0], X_train[:,1], c=y_train)\n",
        "w_0 = lr.W[0]\n",
        "w = lr.W[1:]\n",
        "x = numpy.arange(-5,5,0.5)\n",
        "y = (-w_0 -(x*w[0]))/w[1]\n",
        "plt.plot(x,y, label=\"Decision Boundary\")\n",
        "plt.xlabel(\"x1\")\n",
        "plt.ylabel(\"x2\")\n",
        "plt.title(\"Decision Boundary (Logistic)\")\n",
        "plt.legend()\n",
        "plt.show()"
      ],
      "execution_count": null,
      "outputs": [
        {
          "output_type": "display_data",
          "data": {
            "image/png": "[encoded data removed]",
            "text/plain": [
              "<Figure size 432x288 with 1 Axes>"
            ]
          },
          "metadata": {
            "tags": [],
            "needs_background": "light"
          }
        }
      ]
    },
    {
      "cell_type": "code",
      "metadata": {
        "colab": {
          "base_uri": "https://localhost:8080/"
        },
        "id": "K8CYGgUAMlE7",
        "outputId": "95f0c826-f70d-416a-d578-f71db03be964"
      },
      "source": [
        "from sklearn.metrics import confusion_matrix, f1_score\n",
        "print(\"Logistic Regression Model Accuracy {0:8.2f} % test\".format(accuracy_score(y_test, lr.predict(X_test))*100))\n",
        "print(\"Logistic f_1\", f1_score(y_test, lr.predict(X_test)))\n",
        "print(confusion_matrix(y_test, lr.predict(X_test)))\n",
        "print(\"Logistic Regression Model Accuracy {0:8.2f} % train\".format(accuracy_score(y_train, lr.predict(X_train))*100))\n",
        "print(\"Logistic f_1\", f1_score(y_train, lr.predict(X_train)))"
      ],
      "execution_count": null,
      "outputs": [
        {
          "output_type": "stream",
          "text": [
            "Logistic Regression Model Accuracy    51.30 % test\n",
            "Logistic f_1 0.5230166503428012\n",
            "[[246 254]\n",
            " [233 267]]\n",
            "Logistic Regression Model Accuracy    50.85 % train\n",
            "Logistic f_1 0.5131253095591877\n"
          ],
          "name": "stdout"
        }
      ]
    },
    {
      "cell_type": "code",
      "metadata": {
        "colab": {
          "base_uri": "https://localhost:8080/"
        },
        "id": "boB0zJBXNczo",
        "outputId": "c78705e7-02ce-4638-b237-3620296b6126"
      },
      "source": [
        "X_sqr = X_train ** 2\n",
        "X_sqr[:,0].reshape(-1).shape, numpy.prod(X_train, axis=1).shape, X_train[:,0].shape"
      ],
      "execution_count": null,
      "outputs": [
        {
          "output_type": "execute_result",
          "data": {
            "text/plain": [
              "((2000,), (2000,), (2000,))"
            ]
          },
          "metadata": {
            "tags": []
          },
          "execution_count": 64
        }
      ]
    },
    {
      "cell_type": "code",
      "metadata": {
        "id": "UgwXb-GKY_mc"
      },
      "source": [
        "# feature transformation\n",
        "X_train_sqr = X_train ** 2\n",
        "X_test_sqr = X_test ** 2\n",
        "X_train_tf = numpy.concatenate((X_train_sqr[:,0].reshape(-1,1), X_train_sqr[:,1].reshape(-1,1), numpy.prod(X_train, axis=1).reshape(-1,1), X_train[:,0].reshape(-1,1), X_train[:,1].reshape(-1,1)), axis=1)\n",
        "X_test_tf = numpy.concatenate((X_test_sqr[:,0].reshape(-1,1), X_test_sqr[:,1].reshape(-1,1), numpy.prod(X_test, axis=1).reshape(-1,1), X_test[:,0].reshape(-1,1), X_test[:,1].reshape(-1,1)), axis=1)"
      ],
      "execution_count": null,
      "outputs": []
    },
    {
      "cell_type": "code",
      "metadata": {
        "id": "i21ObDOXZFBg"
      },
      "source": [
        "# Logistic Regression Model\n",
        "lr = LogisticRegressionModel(X_train_tf.shape[1])\n",
        "lr.fit(X_train_tf, y_train)"
      ],
      "execution_count": null,
      "outputs": []
    },
    {
      "cell_type": "code",
      "metadata": {
        "colab": {
          "base_uri": "https://localhost:8080/"
        },
        "id": "18G5A8x1ZPnr",
        "outputId": "925ebaec-6780-4ad9-820e-ab0958987f43"
      },
      "source": [
        "print(\"Logistic Regression Model Accuracy {0:8.2f} %\".format(accuracy_score(y_test, lr.predict(X_test_tf))*100))"
      ],
      "execution_count": null,
      "outputs": [
        {
          "output_type": "stream",
          "text": [
            "Logistic Regression Model Accuracy    78.70 %\n"
          ],
          "name": "stdout"
        }
      ]
    },
    {
      "cell_type": "code",
      "metadata": {
        "colab": {
          "base_uri": "https://localhost:8080/",
          "height": 279
        },
        "id": "dhOm0ut6Zcjv",
        "outputId": "c8a931bf-c1ff-44f0-e40b-d23154535747"
      },
      "source": [
        "plt.scatter(X_test[:,0], X_test[:,1], c=lr.predict(X_test_tf))\n",
        "plt.xlabel(\"x1\")\n",
        "plt.ylabel(\"x2\")\n",
        "plt.show()"
      ],
      "execution_count": null,
      "outputs": [
        {
          "output_type": "display_data",
          "data": {
            "image/png": "[encoded data removed]",
            "text/plain": [
              "<Figure size 432x288 with 1 Axes>"
            ]
          },
          "metadata": {
            "tags": [],
            "needs_background": "light"
          }
        }
      ]
    },
    {
      "cell_type": "code",
      "metadata": {
        "colab": {
          "base_uri": "https://localhost:8080/"
        },
        "id": "sn8QZxfKPKBl",
        "outputId": "309a3fc6-7c0a-4a29-fe59-af9ae0ebb272"
      },
      "source": [
        "from sklearn.metrics import confusion_matrix, f1_score\n",
        "print(\"Logistic Regression Model Accuracy {0:8.2f} % test\".format(accuracy_score(y_test, lr.predict(X_test_tf))*100))\n",
        "print(\"Logistic f_1\", f1_score(y_test, lr.predict(X_test_tf)))\n",
        "print(confusion_matrix(y_test, lr.predict(X_test_tf)))\n",
        "print(\"Logistic Regression Model Accuracy {0:8.2f} % train\".format(accuracy_score(y_train, lr.predict(X_train_tf))*100))\n",
        "print(\"Logistic f_1\", f1_score(y_train, lr.predict(X_train_tf)))"
      ],
      "execution_count": null,
      "outputs": [
        {
          "output_type": "stream",
          "text": [
            "Logistic Regression Model Accuracy    78.70 % test\n",
            "Logistic f_1 0.8093106535362578\n",
            "[[335 165]\n",
            " [ 48 452]]\n",
            "Logistic Regression Model Accuracy    75.75 % train\n",
            "Logistic f_1 0.7871873628784555\n"
          ],
          "name": "stdout"
        }
      ]
    },
    {
      "cell_type": "markdown",
      "metadata": {
        "id": "Beyy5-9QePR5"
      },
      "source": [
        "#1(d)"
      ]
    },
    {
      "cell_type": "code",
      "metadata": {
        "colab": {
          "base_uri": "https://localhost:8080/"
        },
        "id": "CmYDE9VCbMKG",
        "outputId": "0b8d11e4-502b-473c-a386-5db8f1dde900"
      },
      "source": [
        "D = 2\n",
        "means = [numpy.array([[3,6]]).reshape(-1), numpy.array([[3,-2]]).reshape(-1)]\n",
        "covariances = [numpy.array([[0.5,0],[0,2]]) , numpy.array([[2,0],[0,2]])]\n",
        "priors = [0.5, 0.5]\n",
        "train_size, test_size = 4000, 2000\n",
        "X_train, X_test, y_train, y_test = get_dataset(means, covariances[0], priors, train_size, test_size, covariances[1])\n",
        "\n",
        "X_train.shape, y_train.shape, X_test.shape, y_test.shape"
      ],
      "execution_count": null,
      "outputs": [
        {
          "output_type": "execute_result",
          "data": {
            "text/plain": [
              "((4000, 2), (4000, 1), (2000, 2), (2000, 1))"
            ]
          },
          "metadata": {
            "tags": []
          },
          "execution_count": 70
        }
      ]
    },
    {
      "cell_type": "code",
      "metadata": {
        "id": "GkPEiTNqeW5B"
      },
      "source": [
        "lr = LogisticRegressionModel(X_train.shape[1])\n",
        "lr.fit(X_train, y_train)"
      ],
      "execution_count": null,
      "outputs": []
    },
    {
      "cell_type": "code",
      "metadata": {
        "colab": {
          "base_uri": "https://localhost:8080/"
        },
        "id": "UwitT4QEeeIf",
        "outputId": "2d0bb579-f617-4ef6-bde5-327261d36a75"
      },
      "source": [
        "print(\"Logistic Regression Model Accuracy {0:8.2f} %\".format(accuracy_score(y_test, lr.predict(X_test))*100))"
      ],
      "execution_count": null,
      "outputs": [
        {
          "output_type": "stream",
          "text": [
            "Logistic Regression Model Accuracy    99.65 %\n"
          ],
          "name": "stdout"
        }
      ]
    },
    {
      "cell_type": "code",
      "metadata": {
        "colab": {
          "base_uri": "https://localhost:8080/",
          "height": 279
        },
        "id": "gqeMtlvCehlV",
        "outputId": "db3372ae-ebe2-442a-bb3f-b00a76c51fff"
      },
      "source": [
        "plt.scatter(X_test[:,0], X_test[:,1], c=lr.predict(X_test))\n",
        "w_0 = lr.W[0]\n",
        "w = lr.W[1:]\n",
        "x = numpy.arange(-5,5,0.5)\n",
        "y = (-w_0 -(x*w[0]))/w[1]\n",
        "plt.plot(x,y, label=\"Decision Boundary\")\n",
        "plt.xlabel(\"x1\")\n",
        "plt.ylabel(\"x2\")\n",
        "plt.show()"
      ],
      "execution_count": null,
      "outputs": [
        {
          "output_type": "display_data",
          "data": {
            "image/png": "[encoded data removed]",
            "text/plain": [
              "<Figure size 432x288 with 1 Axes>"
            ]
          },
          "metadata": {
            "tags": [],
            "needs_background": "light"
          }
        }
      ]
    },
    {
      "cell_type": "code",
      "metadata": {
        "colab": {
          "base_uri": "https://localhost:8080/"
        },
        "id": "jNW-MMaqQfZO",
        "outputId": "3dc23845-2ab8-4181-8478-0923a52eb51a"
      },
      "source": [
        "from sklearn.metrics import confusion_matrix, f1_score\n",
        "print(\"Logistic Regression Model Accuracy {0:8.2f} % test\".format(accuracy_score(y_test, lr.predict(X_test))*100))\n",
        "print(\"Logistic f_1\", f1_score(y_test, lr.predict(X_test)))\n",
        "print(confusion_matrix(y_test, lr.predict(X_test)))\n",
        "print(\"Logistic Regression Model Accuracy {0:8.2f} % train\".format(accuracy_score(y_train, lr.predict(X_train))*100))\n",
        "print(\"Logistic f_1\", f1_score(y_train, lr.predict(X_train)))"
      ],
      "execution_count": null,
      "outputs": [
        {
          "output_type": "stream",
          "text": [
            "Logistic Regression Model Accuracy    99.65 % test\n",
            "Logistic f_1 0.9964947421131698\n",
            "[[998   2]\n",
            " [  5 995]]\n",
            "Logistic Regression Model Accuracy    99.62 % train\n",
            "Logistic f_1 0.9962490622655664\n"
          ],
          "name": "stdout"
        }
      ]
    },
    {
      "cell_type": "markdown",
      "metadata": {
        "id": "LCzYCFQTj1Te"
      },
      "source": [
        "#2(a) Logistic"
      ]
    },
    {
      "cell_type": "code",
      "metadata": {
        "id": "yfn3WRFneqnp"
      },
      "source": [
        "data = numpy.loadtxt(\"german.data-numeric\", dtype=numpy.float128)"
      ],
      "execution_count": null,
      "outputs": []
    },
    {
      "cell_type": "code",
      "metadata": {
        "colab": {
          "base_uri": "https://localhost:8080/"
        },
        "id": "XbHPkrXej6xt",
        "outputId": "6c32e15d-cfb1-48f0-c213-33a44408446b"
      },
      "source": [
        "X = data[:,:-1]\n",
        "y[y==1]=0\n",
        "y[y==2]=1\n",
        "y = data[:,-1].reshape(-1,1)\n",
        "X.shape, y.shape"
      ],
      "execution_count": null,
      "outputs": [
        {
          "output_type": "execute_result",
          "data": {
            "text/plain": [
              "((1000, 24), (1000, 1))"
            ]
          },
          "metadata": {
            "tags": []
          },
          "execution_count": 123
        }
      ]
    },
    {
      "cell_type": "markdown",
      "metadata": {
        "id": "O0nhslBLonrI"
      },
      "source": [
        "## 80, 20 split"
      ]
    },
    {
      "cell_type": "code",
      "metadata": {
        "id": "Im3eUtvCh2so"
      },
      "source": [
        "from sklearn.model_selection import train_test_split\n",
        "X_train, X_test, y_train, y_test = train_test_split(X, y, test_size=0.2)"
      ],
      "execution_count": null,
      "outputs": []
    },
    {
      "cell_type": "code",
      "metadata": {
        "id": "JITgAYR8jgiD"
      },
      "source": [
        "# Logistic Regression Model\n",
        "lr = LogisticRegressionModel(X_train.shape[1])\n",
        "lr.fit(X_train, y_train)"
      ],
      "execution_count": null,
      "outputs": []
    },
    {
      "cell_type": "code",
      "metadata": {
        "id": "0BsnsbFAjoAz",
        "colab": {
          "base_uri": "https://localhost:8080/"
        },
        "outputId": "696c307c-d03b-44ca-a2a6-f0bb19e5f4c5"
      },
      "source": [
        "print(\"Logistic Regression Model Accuracy {0:8.2f} %\".format(accuracy_score(y_test, lr.predict(X_test))*100))"
      ],
      "execution_count": null,
      "outputs": [
        {
          "output_type": "stream",
          "text": [
            "Logistic Regression Model Accuracy    70.00 %\n"
          ],
          "name": "stdout"
        }
      ]
    },
    {
      "cell_type": "code",
      "metadata": {
        "colab": {
          "base_uri": "https://localhost:8080/"
        },
        "id": "R0NYMIb3RyJR",
        "outputId": "f80db5b5-1ecf-4ed5-ac53-e2f114b31872"
      },
      "source": [
        "from sklearn.metrics import confusion_matrix, f1_score\n",
        "print(\"Logistic Regression Model Accuracy {0:8.2f} % test\".format(accuracy_score(y_test, lr.predict(X_test))*100))\n",
        "print(\"Logistic f_1\", f1_score(y_test, lr.predict(X_test)))\n",
        "print(confusion_matrix(y_test, lr.predict(X_test)))\n",
        "print(\"Logistic Regression Model Accuracy {0:8.2f} % train\".format(accuracy_score(y_train, lr.predict(X_train))*100))\n",
        "print(\"Logistic f_1\", f1_score(y_train, lr.predict(X_train)))"
      ],
      "execution_count": null,
      "outputs": [
        {
          "output_type": "stream",
          "text": [
            "Logistic Regression Model Accuracy    70.00 % test\n",
            "Logistic f_1 0.8235294117647058\n",
            "[[140   0]\n",
            " [ 60   0]]\n",
            "Logistic Regression Model Accuracy    70.00 % train\n",
            "Logistic f_1 0.8235294117647058\n"
          ],
          "name": "stdout"
        }
      ]
    },
    {
      "cell_type": "markdown",
      "metadata": {
        "id": "2C2w5bzfor76"
      },
      "source": [
        "## 70, 30 split"
      ]
    },
    {
      "cell_type": "code",
      "metadata": {
        "id": "aoqCGDldox4n"
      },
      "source": [
        "from sklearn.model_selection import train_test_split\n",
        "X_train, X_test, y_train, y_test = train_test_split(X, y, test_size=0.3)"
      ],
      "execution_count": null,
      "outputs": []
    },
    {
      "cell_type": "code",
      "metadata": {
        "id": "uJzOrBnmox4s"
      },
      "source": [
        "# Logistic Regression Model\n",
        "lr = LogisticRegressionModel(X_train.shape[1])\n",
        "lr.fit(X_train, y_train)"
      ],
      "execution_count": null,
      "outputs": []
    },
    {
      "cell_type": "code",
      "metadata": {
        "colab": {
          "base_uri": "https://localhost:8080/"
        },
        "id": "m05D1D2Pox4u",
        "outputId": "edac122c-83bd-45d8-ca44-c4ca52304da0"
      },
      "source": [
        "print(\"Logistic Regression Model Accuracy {0:8.2f} %\".format(accuracy_score(y_test, lr.predict(X_test))*100))"
      ],
      "execution_count": null,
      "outputs": [
        {
          "output_type": "stream",
          "text": [
            "Logistic Regression Model Accuracy    68.67 %\n"
          ],
          "name": "stdout"
        }
      ]
    },
    {
      "cell_type": "code",
      "metadata": {
        "colab": {
          "base_uri": "https://localhost:8080/"
        },
        "id": "fshUCzPkSzeL",
        "outputId": "e6fa6594-64b9-4508-84df-edc4a0288a19"
      },
      "source": [
        "from sklearn.metrics import confusion_matrix, f1_score\n",
        "print(\"Logistic Regression Model Accuracy {0:8.2f} % test\".format(accuracy_score(y_test, lr.predict(X_test))*100))\n",
        "print(\"Logistic f_1\", f1_score(y_test, lr.predict(X_test)))\n",
        "print(confusion_matrix(y_test, lr.predict(X_test)))\n",
        "print(\"Logistic Regression Model Accuracy {0:8.2f} % train\".format(accuracy_score(y_train, lr.predict(X_train))*100))\n",
        "print(\"Logistic f_1\", f1_score(y_train, lr.predict(X_train)))"
      ],
      "execution_count": null,
      "outputs": [
        {
          "output_type": "stream",
          "text": [
            "Logistic Regression Model Accuracy    68.67 % test\n",
            "Logistic f_1 0.8142292490118578\n",
            "[[206   0]\n",
            " [ 94   0]]\n",
            "Logistic Regression Model Accuracy    70.57 % train\n",
            "Logistic f_1 0.8274706867671692\n"
          ],
          "name": "stdout"
        }
      ]
    },
    {
      "cell_type": "markdown",
      "metadata": {
        "id": "B2--2hEqVsw-"
      },
      "source": [
        "#3(b)"
      ]
    },
    {
      "cell_type": "code",
      "metadata": {
        "id": "NMzBfy9roknJ"
      },
      "source": [
        "import pandas\n",
        "import numpy\n",
        "dataset = pandas.read_csv(\"train.csv\")"
      ],
      "execution_count": null,
      "outputs": []
    },
    {
      "cell_type": "code",
      "metadata": {
        "id": "hVRrhsoQPOyK"
      },
      "source": [
        "dataset.replace('',numpy.nan, inplace= True)\n",
        "dataset.dropna(inplace=True)"
      ],
      "execution_count": null,
      "outputs": []
    },
    {
      "cell_type": "code",
      "metadata": {
        "id": "mSlEQNv7P1S9"
      },
      "source": [
        "X = dataset.iloc[:,2:].values\n",
        "y = dataset[\"target\"].values\n",
        "y = y.reshape(-1,1)"
      ],
      "execution_count": null,
      "outputs": []
    },
    {
      "cell_type": "code",
      "metadata": {
        "id": "f3zfMUqnaER9"
      },
      "source": [
        "from sklearn.preprocessing import StandardScaler\n",
        "st = StandardScaler()\n",
        "st.fit(X)\n",
        "X = st.transform(X)\n",
        "X = X.astype(\"float128\")"
      ],
      "execution_count": null,
      "outputs": []
    },
    {
      "cell_type": "code",
      "metadata": {
        "colab": {
          "base_uri": "https://localhost:8080/"
        },
        "id": "iWLPw84fQKz6",
        "outputId": "237bf4d1-4e3c-4863-9216-bbe57efb4e38"
      },
      "source": [
        "from sklearn.model_selection import train_test_split\n",
        "X_train, X_test, y_train, y_test = train_test_split(X, y, test_size=0.2)\n",
        "X_train.shape, X_test.shape, y_train.shape, y_test.shape"
      ],
      "execution_count": null,
      "outputs": [
        {
          "output_type": "execute_result",
          "data": {
            "text/plain": [
              "((476169, 57), (119043, 57), (476169, 1), (119043, 1))"
            ]
          },
          "metadata": {
            "tags": []
          },
          "execution_count": 70
        }
      ]
    },
    {
      "cell_type": "code",
      "metadata": {
        "colab": {
          "base_uri": "https://localhost:8080/"
        },
        "id": "GsuIzL8IS9u_",
        "outputId": "c33459db-d1ed-4a1b-bd1a-eaaafbdfffe0"
      },
      "source": [
        "from collections import Counter\n",
        "y_count = Counter(y_train.reshape(-1))\n",
        "y_count"
      ],
      "execution_count": null,
      "outputs": [
        {
          "output_type": "execute_result",
          "data": {
            "text/plain": [
              "Counter({0: 458893, 1: 17276})"
            ]
          },
          "metadata": {
            "tags": []
          },
          "execution_count": 71
        }
      ]
    },
    {
      "cell_type": "code",
      "metadata": {
        "id": "rKsRDkphQiN4"
      },
      "source": [
        "lr = LogisticRegressionModel(X_train.shape[1])\n",
        "lr.fit(X_train, y_train)"
      ],
      "execution_count": null,
      "outputs": []
    },
    {
      "cell_type": "code",
      "metadata": {
        "colab": {
          "base_uri": "https://localhost:8080/"
        },
        "id": "PShQqwgLXvRZ",
        "outputId": "1e85797d-9f0d-4c75-b8c6-a47573e5b90a"
      },
      "source": [
        "y_count = Counter(y_test.reshape(-1))\n",
        "y_count"
      ],
      "execution_count": null,
      "outputs": [
        {
          "output_type": "execute_result",
          "data": {
            "text/plain": [
              "Counter({0: 114625, 1: 4418})"
            ]
          },
          "metadata": {
            "tags": []
          },
          "execution_count": 73
        }
      ]
    },
    {
      "cell_type": "code",
      "metadata": {
        "colab": {
          "base_uri": "https://localhost:8080/"
        },
        "id": "KvXX0SnmQvDu",
        "outputId": "96e65e01-72c3-48d2-cf6f-f6f67decdb88"
      },
      "source": [
        "from sklearn.metrics import confusion_matrix, accuracy_score\n",
        "print(\"Logistic Regression Model Accuracy(Train) {0:8.2f} %\".format(accuracy_score(y_train, lr.predict(X_train))*100))\n",
        "print(\"Logistic Regression Model Accuracy(Test) {0:8.2f} %\".format(accuracy_score(y_test, lr.predict(X_test))*100))\n",
        "print(confusion_matrix(y_test, lr.predict(X_test)))"
      ],
      "execution_count": null,
      "outputs": [
        {
          "output_type": "stream",
          "text": [
            "Logistic Regression Model Accuracy(Train)    95.14 %\n",
            "Logistic Regression Model Accuracy(Test)    95.06 %\n",
            "[[113019   1606]\n",
            " [  4278    140]]\n"
          ],
          "name": "stdout"
        }
      ]
    },
    {
      "cell_type": "markdown",
      "metadata": {
        "id": "uqtOziZ4irE_"
      },
      "source": [
        "## Undersampling"
      ]
    },
    {
      "cell_type": "code",
      "metadata": {
        "id": "TN9eHtScfoJu"
      },
      "source": [
        "import pandas\n",
        "dataset = pandas.read_csv(\"train.csv\")"
      ],
      "execution_count": null,
      "outputs": []
    },
    {
      "cell_type": "code",
      "metadata": {
        "colab": {
          "base_uri": "https://localhost:8080/"
        },
        "id": "d0M1ltrrQ1a6",
        "outputId": "dd8f6bcd-176a-4d39-a4ee-343745329cf2"
      },
      "source": [
        "dataset_0 = dataset[dataset[\"target\"]==0]\n",
        "dataset_1 = dataset[dataset[\"target\"]==1]\n",
        "dataset_0.shape, dataset_1.shape"
      ],
      "execution_count": null,
      "outputs": [
        {
          "output_type": "execute_result",
          "data": {
            "text/plain": [
              "((573518, 59), (21694, 59))"
            ]
          },
          "metadata": {
            "tags": []
          },
          "execution_count": 106
        }
      ]
    },
    {
      "cell_type": "code",
      "metadata": {
        "colab": {
          "base_uri": "https://localhost:8080/",
          "height": 444
        },
        "id": "BiOezR-9gKic",
        "outputId": "e04de610-8f39-41a1-de36-52650f202be0"
      },
      "source": [
        "dataset_0 = dataset_0[:len(dataset_1)]\n",
        "dataset = pandas.concat([dataset_0, dataset_1], axis=0)\n",
        "dataset"
      ],
      "execution_count": null,
      "outputs": [
        {
          "output_type": "execute_result",
          "data": {
            "text/html": [
              "<div>\n",
              "<style scoped>\n",
              "    .dataframe tbody tr th:only-of-type {\n",
              "        vertical-align: middle;\n",
              "    }\n",
              "\n",
              "    .dataframe tbody tr th {\n",
              "        vertical-align: top;\n",
              "    }\n",
              "\n",
              "    .dataframe thead th {\n",
              "        text-align: right;\n",
              "    }\n",
              "</style>\n",
              "<table border=\"1\" class=\"dataframe\">\n",
              "  <thead>\n",
              "    <tr style=\"text-align: right;\">\n",
              "      <th></th>\n",
              "      <th>id</th>\n",
              "      <th>target</th>\n",
              "      <th>ps_ind_01</th>\n",
              "      <th>ps_ind_02_cat</th>\n",
              "      <th>ps_ind_03</th>\n",
              "      <th>ps_ind_04_cat</th>\n",
              "      <th>ps_ind_05_cat</th>\n",
              "      <th>ps_ind_06_bin</th>\n",
              "      <th>ps_ind_07_bin</th>\n",
              "      <th>ps_ind_08_bin</th>\n",
              "      <th>ps_ind_09_bin</th>\n",
              "      <th>ps_ind_10_bin</th>\n",
              "      <th>ps_ind_11_bin</th>\n",
              "      <th>ps_ind_12_bin</th>\n",
              "      <th>ps_ind_13_bin</th>\n",
              "      <th>ps_ind_14</th>\n",
              "      <th>ps_ind_15</th>\n",
              "      <th>ps_ind_16_bin</th>\n",
              "      <th>ps_ind_17_bin</th>\n",
              "      <th>ps_ind_18_bin</th>\n",
              "      <th>ps_reg_01</th>\n",
              "      <th>ps_reg_02</th>\n",
              "      <th>ps_reg_03</th>\n",
              "      <th>ps_car_01_cat</th>\n",
              "      <th>ps_car_02_cat</th>\n",
              "      <th>ps_car_03_cat</th>\n",
              "      <th>ps_car_04_cat</th>\n",
              "      <th>ps_car_05_cat</th>\n",
              "      <th>ps_car_06_cat</th>\n",
              "      <th>ps_car_07_cat</th>\n",
              "      <th>ps_car_08_cat</th>\n",
              "      <th>ps_car_09_cat</th>\n",
              "      <th>ps_car_10_cat</th>\n",
              "      <th>ps_car_11_cat</th>\n",
              "      <th>ps_car_11</th>\n",
              "      <th>ps_car_12</th>\n",
              "      <th>ps_car_13</th>\n",
              "      <th>ps_car_14</th>\n",
              "      <th>ps_car_15</th>\n",
              "      <th>ps_calc_01</th>\n",
              "      <th>ps_calc_02</th>\n",
              "      <th>ps_calc_03</th>\n",
              "      <th>ps_calc_04</th>\n",
              "      <th>ps_calc_05</th>\n",
              "      <th>ps_calc_06</th>\n",
              "      <th>ps_calc_07</th>\n",
              "      <th>ps_calc_08</th>\n",
              "      <th>ps_calc_09</th>\n",
              "      <th>ps_calc_10</th>\n",
              "      <th>ps_calc_11</th>\n",
              "      <th>ps_calc_12</th>\n",
              "      <th>ps_calc_13</th>\n",
              "      <th>ps_calc_14</th>\n",
              "      <th>ps_calc_15_bin</th>\n",
              "      <th>ps_calc_16_bin</th>\n",
              "      <th>ps_calc_17_bin</th>\n",
              "      <th>ps_calc_18_bin</th>\n",
              "      <th>ps_calc_19_bin</th>\n",
              "      <th>ps_calc_20_bin</th>\n",
              "    </tr>\n",
              "  </thead>\n",
              "  <tbody>\n",
              "    <tr>\n",
              "      <th>0</th>\n",
              "      <td>7</td>\n",
              "      <td>0</td>\n",
              "      <td>2</td>\n",
              "      <td>2</td>\n",
              "      <td>5</td>\n",
              "      <td>1</td>\n",
              "      <td>0</td>\n",
              "      <td>0</td>\n",
              "      <td>1</td>\n",
              "      <td>0</td>\n",
              "      <td>0</td>\n",
              "      <td>0</td>\n",
              "      <td>0</td>\n",
              "      <td>0</td>\n",
              "      <td>0</td>\n",
              "      <td>0</td>\n",
              "      <td>11</td>\n",
              "      <td>0</td>\n",
              "      <td>1</td>\n",
              "      <td>0</td>\n",
              "      <td>0.7</td>\n",
              "      <td>0.2</td>\n",
              "      <td>0.718070</td>\n",
              "      <td>10</td>\n",
              "      <td>1</td>\n",
              "      <td>-1</td>\n",
              "      <td>0</td>\n",
              "      <td>1</td>\n",
              "      <td>4</td>\n",
              "      <td>1</td>\n",
              "      <td>0</td>\n",
              "      <td>0</td>\n",
              "      <td>1</td>\n",
              "      <td>12</td>\n",
              "      <td>2</td>\n",
              "      <td>0.400000</td>\n",
              "      <td>0.883679</td>\n",
              "      <td>0.370810</td>\n",
              "      <td>3.605551</td>\n",
              "      <td>0.6</td>\n",
              "      <td>0.5</td>\n",
              "      <td>0.2</td>\n",
              "      <td>3</td>\n",
              "      <td>1</td>\n",
              "      <td>10</td>\n",
              "      <td>1</td>\n",
              "      <td>10</td>\n",
              "      <td>1</td>\n",
              "      <td>5</td>\n",
              "      <td>9</td>\n",
              "      <td>1</td>\n",
              "      <td>5</td>\n",
              "      <td>8</td>\n",
              "      <td>0</td>\n",
              "      <td>1</td>\n",
              "      <td>1</td>\n",
              "      <td>0</td>\n",
              "      <td>0</td>\n",
              "      <td>1</td>\n",
              "    </tr>\n",
              "    <tr>\n",
              "      <th>1</th>\n",
              "      <td>9</td>\n",
              "      <td>0</td>\n",
              "      <td>1</td>\n",
              "      <td>1</td>\n",
              "      <td>7</td>\n",
              "      <td>0</td>\n",
              "      <td>0</td>\n",
              "      <td>0</td>\n",
              "      <td>0</td>\n",
              "      <td>1</td>\n",
              "      <td>0</td>\n",
              "      <td>0</td>\n",
              "      <td>0</td>\n",
              "      <td>0</td>\n",
              "      <td>0</td>\n",
              "      <td>0</td>\n",
              "      <td>3</td>\n",
              "      <td>0</td>\n",
              "      <td>0</td>\n",
              "      <td>1</td>\n",
              "      <td>0.8</td>\n",
              "      <td>0.4</td>\n",
              "      <td>0.766078</td>\n",
              "      <td>11</td>\n",
              "      <td>1</td>\n",
              "      <td>-1</td>\n",
              "      <td>0</td>\n",
              "      <td>-1</td>\n",
              "      <td>11</td>\n",
              "      <td>1</td>\n",
              "      <td>1</td>\n",
              "      <td>2</td>\n",
              "      <td>1</td>\n",
              "      <td>19</td>\n",
              "      <td>3</td>\n",
              "      <td>0.316228</td>\n",
              "      <td>0.618817</td>\n",
              "      <td>0.388716</td>\n",
              "      <td>2.449490</td>\n",
              "      <td>0.3</td>\n",
              "      <td>0.1</td>\n",
              "      <td>0.3</td>\n",
              "      <td>2</td>\n",
              "      <td>1</td>\n",
              "      <td>9</td>\n",
              "      <td>5</td>\n",
              "      <td>8</td>\n",
              "      <td>1</td>\n",
              "      <td>7</td>\n",
              "      <td>3</td>\n",
              "      <td>1</td>\n",
              "      <td>1</td>\n",
              "      <td>9</td>\n",
              "      <td>0</td>\n",
              "      <td>1</td>\n",
              "      <td>1</td>\n",
              "      <td>0</td>\n",
              "      <td>1</td>\n",
              "      <td>0</td>\n",
              "    </tr>\n",
              "    <tr>\n",
              "      <th>2</th>\n",
              "      <td>13</td>\n",
              "      <td>0</td>\n",
              "      <td>5</td>\n",
              "      <td>4</td>\n",
              "      <td>9</td>\n",
              "      <td>1</td>\n",
              "      <td>0</td>\n",
              "      <td>0</td>\n",
              "      <td>0</td>\n",
              "      <td>1</td>\n",
              "      <td>0</td>\n",
              "      <td>0</td>\n",
              "      <td>0</td>\n",
              "      <td>0</td>\n",
              "      <td>0</td>\n",
              "      <td>0</td>\n",
              "      <td>12</td>\n",
              "      <td>1</td>\n",
              "      <td>0</td>\n",
              "      <td>0</td>\n",
              "      <td>0.0</td>\n",
              "      <td>0.0</td>\n",
              "      <td>-1.000000</td>\n",
              "      <td>7</td>\n",
              "      <td>1</td>\n",
              "      <td>-1</td>\n",
              "      <td>0</td>\n",
              "      <td>-1</td>\n",
              "      <td>14</td>\n",
              "      <td>1</td>\n",
              "      <td>1</td>\n",
              "      <td>2</td>\n",
              "      <td>1</td>\n",
              "      <td>60</td>\n",
              "      <td>1</td>\n",
              "      <td>0.316228</td>\n",
              "      <td>0.641586</td>\n",
              "      <td>0.347275</td>\n",
              "      <td>3.316625</td>\n",
              "      <td>0.5</td>\n",
              "      <td>0.7</td>\n",
              "      <td>0.1</td>\n",
              "      <td>2</td>\n",
              "      <td>2</td>\n",
              "      <td>9</td>\n",
              "      <td>1</td>\n",
              "      <td>8</td>\n",
              "      <td>2</td>\n",
              "      <td>7</td>\n",
              "      <td>4</td>\n",
              "      <td>2</td>\n",
              "      <td>7</td>\n",
              "      <td>7</td>\n",
              "      <td>0</td>\n",
              "      <td>1</td>\n",
              "      <td>1</td>\n",
              "      <td>0</td>\n",
              "      <td>1</td>\n",
              "      <td>0</td>\n",
              "    </tr>\n",
              "    <tr>\n",
              "      <th>3</th>\n",
              "      <td>16</td>\n",
              "      <td>0</td>\n",
              "      <td>0</td>\n",
              "      <td>1</td>\n",
              "      <td>2</td>\n",
              "      <td>0</td>\n",
              "      <td>0</td>\n",
              "      <td>1</td>\n",
              "      <td>0</td>\n",
              "      <td>0</td>\n",
              "      <td>0</td>\n",
              "      <td>0</td>\n",
              "      <td>0</td>\n",
              "      <td>0</td>\n",
              "      <td>0</td>\n",
              "      <td>0</td>\n",
              "      <td>8</td>\n",
              "      <td>1</td>\n",
              "      <td>0</td>\n",
              "      <td>0</td>\n",
              "      <td>0.9</td>\n",
              "      <td>0.2</td>\n",
              "      <td>0.580948</td>\n",
              "      <td>7</td>\n",
              "      <td>1</td>\n",
              "      <td>0</td>\n",
              "      <td>0</td>\n",
              "      <td>1</td>\n",
              "      <td>11</td>\n",
              "      <td>1</td>\n",
              "      <td>1</td>\n",
              "      <td>3</td>\n",
              "      <td>1</td>\n",
              "      <td>104</td>\n",
              "      <td>1</td>\n",
              "      <td>0.374166</td>\n",
              "      <td>0.542949</td>\n",
              "      <td>0.294958</td>\n",
              "      <td>2.000000</td>\n",
              "      <td>0.6</td>\n",
              "      <td>0.9</td>\n",
              "      <td>0.1</td>\n",
              "      <td>2</td>\n",
              "      <td>4</td>\n",
              "      <td>7</td>\n",
              "      <td>1</td>\n",
              "      <td>8</td>\n",
              "      <td>4</td>\n",
              "      <td>2</td>\n",
              "      <td>2</td>\n",
              "      <td>2</td>\n",
              "      <td>4</td>\n",
              "      <td>9</td>\n",
              "      <td>0</td>\n",
              "      <td>0</td>\n",
              "      <td>0</td>\n",
              "      <td>0</td>\n",
              "      <td>0</td>\n",
              "      <td>0</td>\n",
              "    </tr>\n",
              "    <tr>\n",
              "      <th>4</th>\n",
              "      <td>17</td>\n",
              "      <td>0</td>\n",
              "      <td>0</td>\n",
              "      <td>2</td>\n",
              "      <td>0</td>\n",
              "      <td>1</td>\n",
              "      <td>0</td>\n",
              "      <td>1</td>\n",
              "      <td>0</td>\n",
              "      <td>0</td>\n",
              "      <td>0</td>\n",
              "      <td>0</td>\n",
              "      <td>0</td>\n",
              "      <td>0</td>\n",
              "      <td>0</td>\n",
              "      <td>0</td>\n",
              "      <td>9</td>\n",
              "      <td>1</td>\n",
              "      <td>0</td>\n",
              "      <td>0</td>\n",
              "      <td>0.7</td>\n",
              "      <td>0.6</td>\n",
              "      <td>0.840759</td>\n",
              "      <td>11</td>\n",
              "      <td>1</td>\n",
              "      <td>-1</td>\n",
              "      <td>0</td>\n",
              "      <td>-1</td>\n",
              "      <td>14</td>\n",
              "      <td>1</td>\n",
              "      <td>1</td>\n",
              "      <td>2</td>\n",
              "      <td>1</td>\n",
              "      <td>82</td>\n",
              "      <td>3</td>\n",
              "      <td>0.316070</td>\n",
              "      <td>0.565832</td>\n",
              "      <td>0.365103</td>\n",
              "      <td>2.000000</td>\n",
              "      <td>0.4</td>\n",
              "      <td>0.6</td>\n",
              "      <td>0.0</td>\n",
              "      <td>2</td>\n",
              "      <td>2</td>\n",
              "      <td>6</td>\n",
              "      <td>3</td>\n",
              "      <td>10</td>\n",
              "      <td>2</td>\n",
              "      <td>12</td>\n",
              "      <td>3</td>\n",
              "      <td>1</td>\n",
              "      <td>1</td>\n",
              "      <td>3</td>\n",
              "      <td>0</td>\n",
              "      <td>0</td>\n",
              "      <td>0</td>\n",
              "      <td>1</td>\n",
              "      <td>1</td>\n",
              "      <td>0</td>\n",
              "    </tr>\n",
              "    <tr>\n",
              "      <th>...</th>\n",
              "      <td>...</td>\n",
              "      <td>...</td>\n",
              "      <td>...</td>\n",
              "      <td>...</td>\n",
              "      <td>...</td>\n",
              "      <td>...</td>\n",
              "      <td>...</td>\n",
              "      <td>...</td>\n",
              "      <td>...</td>\n",
              "      <td>...</td>\n",
              "      <td>...</td>\n",
              "      <td>...</td>\n",
              "      <td>...</td>\n",
              "      <td>...</td>\n",
              "      <td>...</td>\n",
              "      <td>...</td>\n",
              "      <td>...</td>\n",
              "      <td>...</td>\n",
              "      <td>...</td>\n",
              "      <td>...</td>\n",
              "      <td>...</td>\n",
              "      <td>...</td>\n",
              "      <td>...</td>\n",
              "      <td>...</td>\n",
              "      <td>...</td>\n",
              "      <td>...</td>\n",
              "      <td>...</td>\n",
              "      <td>...</td>\n",
              "      <td>...</td>\n",
              "      <td>...</td>\n",
              "      <td>...</td>\n",
              "      <td>...</td>\n",
              "      <td>...</td>\n",
              "      <td>...</td>\n",
              "      <td>...</td>\n",
              "      <td>...</td>\n",
              "      <td>...</td>\n",
              "      <td>...</td>\n",
              "      <td>...</td>\n",
              "      <td>...</td>\n",
              "      <td>...</td>\n",
              "      <td>...</td>\n",
              "      <td>...</td>\n",
              "      <td>...</td>\n",
              "      <td>...</td>\n",
              "      <td>...</td>\n",
              "      <td>...</td>\n",
              "      <td>...</td>\n",
              "      <td>...</td>\n",
              "      <td>...</td>\n",
              "      <td>...</td>\n",
              "      <td>...</td>\n",
              "      <td>...</td>\n",
              "      <td>...</td>\n",
              "      <td>...</td>\n",
              "      <td>...</td>\n",
              "      <td>...</td>\n",
              "      <td>...</td>\n",
              "      <td>...</td>\n",
              "    </tr>\n",
              "    <tr>\n",
              "      <th>595006</th>\n",
              "      <td>1487473</td>\n",
              "      <td>1</td>\n",
              "      <td>5</td>\n",
              "      <td>1</td>\n",
              "      <td>7</td>\n",
              "      <td>0</td>\n",
              "      <td>3</td>\n",
              "      <td>0</td>\n",
              "      <td>0</td>\n",
              "      <td>1</td>\n",
              "      <td>0</td>\n",
              "      <td>0</td>\n",
              "      <td>0</td>\n",
              "      <td>0</td>\n",
              "      <td>0</td>\n",
              "      <td>0</td>\n",
              "      <td>8</td>\n",
              "      <td>0</td>\n",
              "      <td>1</td>\n",
              "      <td>0</td>\n",
              "      <td>0.6</td>\n",
              "      <td>0.4</td>\n",
              "      <td>1.537652</td>\n",
              "      <td>11</td>\n",
              "      <td>0</td>\n",
              "      <td>0</td>\n",
              "      <td>0</td>\n",
              "      <td>1</td>\n",
              "      <td>5</td>\n",
              "      <td>1</td>\n",
              "      <td>1</td>\n",
              "      <td>2</td>\n",
              "      <td>1</td>\n",
              "      <td>104</td>\n",
              "      <td>1</td>\n",
              "      <td>0.424264</td>\n",
              "      <td>1.269111</td>\n",
              "      <td>0.384708</td>\n",
              "      <td>3.162278</td>\n",
              "      <td>0.5</td>\n",
              "      <td>0.1</td>\n",
              "      <td>0.5</td>\n",
              "      <td>3</td>\n",
              "      <td>4</td>\n",
              "      <td>9</td>\n",
              "      <td>1</td>\n",
              "      <td>10</td>\n",
              "      <td>2</td>\n",
              "      <td>9</td>\n",
              "      <td>10</td>\n",
              "      <td>1</td>\n",
              "      <td>5</td>\n",
              "      <td>7</td>\n",
              "      <td>0</td>\n",
              "      <td>1</td>\n",
              "      <td>1</td>\n",
              "      <td>0</td>\n",
              "      <td>0</td>\n",
              "      <td>0</td>\n",
              "    </tr>\n",
              "    <tr>\n",
              "      <th>595046</th>\n",
              "      <td>1487566</td>\n",
              "      <td>1</td>\n",
              "      <td>1</td>\n",
              "      <td>1</td>\n",
              "      <td>5</td>\n",
              "      <td>0</td>\n",
              "      <td>0</td>\n",
              "      <td>0</td>\n",
              "      <td>0</td>\n",
              "      <td>1</td>\n",
              "      <td>0</td>\n",
              "      <td>0</td>\n",
              "      <td>0</td>\n",
              "      <td>0</td>\n",
              "      <td>0</td>\n",
              "      <td>0</td>\n",
              "      <td>4</td>\n",
              "      <td>0</td>\n",
              "      <td>0</td>\n",
              "      <td>1</td>\n",
              "      <td>0.3</td>\n",
              "      <td>0.4</td>\n",
              "      <td>-1.000000</td>\n",
              "      <td>11</td>\n",
              "      <td>0</td>\n",
              "      <td>-1</td>\n",
              "      <td>0</td>\n",
              "      <td>-1</td>\n",
              "      <td>15</td>\n",
              "      <td>1</td>\n",
              "      <td>1</td>\n",
              "      <td>2</td>\n",
              "      <td>1</td>\n",
              "      <td>5</td>\n",
              "      <td>2</td>\n",
              "      <td>0.424264</td>\n",
              "      <td>0.756979</td>\n",
              "      <td>0.400000</td>\n",
              "      <td>2.000000</td>\n",
              "      <td>0.3</td>\n",
              "      <td>0.4</td>\n",
              "      <td>0.6</td>\n",
              "      <td>1</td>\n",
              "      <td>1</td>\n",
              "      <td>8</td>\n",
              "      <td>2</td>\n",
              "      <td>9</td>\n",
              "      <td>5</td>\n",
              "      <td>9</td>\n",
              "      <td>9</td>\n",
              "      <td>2</td>\n",
              "      <td>1</td>\n",
              "      <td>5</td>\n",
              "      <td>0</td>\n",
              "      <td>1</td>\n",
              "      <td>0</td>\n",
              "      <td>0</td>\n",
              "      <td>0</td>\n",
              "      <td>0</td>\n",
              "    </tr>\n",
              "    <tr>\n",
              "      <th>595099</th>\n",
              "      <td>1487716</td>\n",
              "      <td>1</td>\n",
              "      <td>0</td>\n",
              "      <td>1</td>\n",
              "      <td>6</td>\n",
              "      <td>1</td>\n",
              "      <td>0</td>\n",
              "      <td>0</td>\n",
              "      <td>1</td>\n",
              "      <td>0</td>\n",
              "      <td>0</td>\n",
              "      <td>0</td>\n",
              "      <td>0</td>\n",
              "      <td>0</td>\n",
              "      <td>0</td>\n",
              "      <td>0</td>\n",
              "      <td>9</td>\n",
              "      <td>0</td>\n",
              "      <td>1</td>\n",
              "      <td>0</td>\n",
              "      <td>0.9</td>\n",
              "      <td>0.3</td>\n",
              "      <td>0.711952</td>\n",
              "      <td>11</td>\n",
              "      <td>1</td>\n",
              "      <td>0</td>\n",
              "      <td>0</td>\n",
              "      <td>1</td>\n",
              "      <td>7</td>\n",
              "      <td>1</td>\n",
              "      <td>1</td>\n",
              "      <td>1</td>\n",
              "      <td>1</td>\n",
              "      <td>104</td>\n",
              "      <td>3</td>\n",
              "      <td>0.400000</td>\n",
              "      <td>0.970654</td>\n",
              "      <td>0.372424</td>\n",
              "      <td>3.464102</td>\n",
              "      <td>0.5</td>\n",
              "      <td>0.4</td>\n",
              "      <td>0.6</td>\n",
              "      <td>2</td>\n",
              "      <td>2</td>\n",
              "      <td>8</td>\n",
              "      <td>2</td>\n",
              "      <td>8</td>\n",
              "      <td>4</td>\n",
              "      <td>10</td>\n",
              "      <td>3</td>\n",
              "      <td>2</td>\n",
              "      <td>1</td>\n",
              "      <td>6</td>\n",
              "      <td>0</td>\n",
              "      <td>1</td>\n",
              "      <td>1</td>\n",
              "      <td>0</td>\n",
              "      <td>0</td>\n",
              "      <td>0</td>\n",
              "    </tr>\n",
              "    <tr>\n",
              "      <th>595113</th>\n",
              "      <td>1487748</td>\n",
              "      <td>1</td>\n",
              "      <td>0</td>\n",
              "      <td>2</td>\n",
              "      <td>2</td>\n",
              "      <td>0</td>\n",
              "      <td>0</td>\n",
              "      <td>1</td>\n",
              "      <td>0</td>\n",
              "      <td>0</td>\n",
              "      <td>0</td>\n",
              "      <td>0</td>\n",
              "      <td>0</td>\n",
              "      <td>0</td>\n",
              "      <td>0</td>\n",
              "      <td>0</td>\n",
              "      <td>2</td>\n",
              "      <td>0</td>\n",
              "      <td>0</td>\n",
              "      <td>1</td>\n",
              "      <td>0.6</td>\n",
              "      <td>0.1</td>\n",
              "      <td>0.577170</td>\n",
              "      <td>7</td>\n",
              "      <td>1</td>\n",
              "      <td>1</td>\n",
              "      <td>0</td>\n",
              "      <td>0</td>\n",
              "      <td>11</td>\n",
              "      <td>1</td>\n",
              "      <td>0</td>\n",
              "      <td>2</td>\n",
              "      <td>1</td>\n",
              "      <td>104</td>\n",
              "      <td>2</td>\n",
              "      <td>0.316228</td>\n",
              "      <td>0.876295</td>\n",
              "      <td>0.320780</td>\n",
              "      <td>3.741657</td>\n",
              "      <td>0.5</td>\n",
              "      <td>0.2</td>\n",
              "      <td>0.6</td>\n",
              "      <td>3</td>\n",
              "      <td>0</td>\n",
              "      <td>9</td>\n",
              "      <td>3</td>\n",
              "      <td>10</td>\n",
              "      <td>4</td>\n",
              "      <td>11</td>\n",
              "      <td>5</td>\n",
              "      <td>0</td>\n",
              "      <td>4</td>\n",
              "      <td>4</td>\n",
              "      <td>0</td>\n",
              "      <td>0</td>\n",
              "      <td>1</td>\n",
              "      <td>0</td>\n",
              "      <td>1</td>\n",
              "      <td>0</td>\n",
              "    </tr>\n",
              "    <tr>\n",
              "      <th>595158</th>\n",
              "      <td>1487866</td>\n",
              "      <td>1</td>\n",
              "      <td>1</td>\n",
              "      <td>2</td>\n",
              "      <td>1</td>\n",
              "      <td>0</td>\n",
              "      <td>0</td>\n",
              "      <td>0</td>\n",
              "      <td>0</td>\n",
              "      <td>1</td>\n",
              "      <td>0</td>\n",
              "      <td>0</td>\n",
              "      <td>0</td>\n",
              "      <td>0</td>\n",
              "      <td>0</td>\n",
              "      <td>0</td>\n",
              "      <td>13</td>\n",
              "      <td>1</td>\n",
              "      <td>0</td>\n",
              "      <td>0</td>\n",
              "      <td>0.6</td>\n",
              "      <td>0.4</td>\n",
              "      <td>1.095160</td>\n",
              "      <td>9</td>\n",
              "      <td>1</td>\n",
              "      <td>0</td>\n",
              "      <td>0</td>\n",
              "      <td>1</td>\n",
              "      <td>11</td>\n",
              "      <td>1</td>\n",
              "      <td>1</td>\n",
              "      <td>2</td>\n",
              "      <td>1</td>\n",
              "      <td>57</td>\n",
              "      <td>2</td>\n",
              "      <td>0.374166</td>\n",
              "      <td>0.752558</td>\n",
              "      <td>0.328634</td>\n",
              "      <td>3.464102</td>\n",
              "      <td>0.2</td>\n",
              "      <td>0.6</td>\n",
              "      <td>0.3</td>\n",
              "      <td>1</td>\n",
              "      <td>1</td>\n",
              "      <td>8</td>\n",
              "      <td>2</td>\n",
              "      <td>11</td>\n",
              "      <td>0</td>\n",
              "      <td>13</td>\n",
              "      <td>7</td>\n",
              "      <td>2</td>\n",
              "      <td>4</td>\n",
              "      <td>9</td>\n",
              "      <td>1</td>\n",
              "      <td>1</td>\n",
              "      <td>1</td>\n",
              "      <td>0</td>\n",
              "      <td>0</td>\n",
              "      <td>0</td>\n",
              "    </tr>\n",
              "  </tbody>\n",
              "</table>\n",
              "<p>43388 rows × 59 columns</p>\n",
              "</div>"
            ],
            "text/plain": [
              "             id  target  ...  ps_calc_19_bin  ps_calc_20_bin\n",
              "0             7       0  ...               0               1\n",
              "1             9       0  ...               1               0\n",
              "2            13       0  ...               1               0\n",
              "3            16       0  ...               0               0\n",
              "4            17       0  ...               1               0\n",
              "...         ...     ...  ...             ...             ...\n",
              "595006  1487473       1  ...               0               0\n",
              "595046  1487566       1  ...               0               0\n",
              "595099  1487716       1  ...               0               0\n",
              "595113  1487748       1  ...               1               0\n",
              "595158  1487866       1  ...               0               0\n",
              "\n",
              "[43388 rows x 59 columns]"
            ]
          },
          "metadata": {
            "tags": []
          },
          "execution_count": 107
        }
      ]
    },
    {
      "cell_type": "code",
      "metadata": {
        "id": "poeLF6L8hnj5"
      },
      "source": [
        "X = dataset.iloc[:,2:].values\n",
        "y = dataset[\"target\"].values\n",
        "y = y.reshape(-1,1)"
      ],
      "execution_count": null,
      "outputs": []
    },
    {
      "cell_type": "code",
      "metadata": {
        "id": "9xcZp7Udhnj-"
      },
      "source": [
        "from sklearn.preprocessing import StandardScaler\n",
        "st = StandardScaler()\n",
        "st.fit(X)\n",
        "X = st.transform(X).astype(\"float128\")"
      ],
      "execution_count": null,
      "outputs": []
    },
    {
      "cell_type": "markdown",
      "metadata": {
        "id": "zWKGZ8NeVGR4"
      },
      "source": [
        "## 80,20 split"
      ]
    },
    {
      "cell_type": "code",
      "metadata": {
        "colab": {
          "base_uri": "https://localhost:8080/"
        },
        "id": "GpWgefGChnkB",
        "outputId": "7c2ba672-e5c9-4844-de6a-0a0e0dbfa72a"
      },
      "source": [
        "X_train, X_test, y_train, y_test = train_test_split(X, y, test_size=0.2)\n",
        "X_train.shape, X_test.shape, y_train.shape, y_test.shape"
      ],
      "execution_count": null,
      "outputs": [
        {
          "output_type": "execute_result",
          "data": {
            "text/plain": [
              "((34710, 57), (8678, 57), (34710, 1), (8678, 1))"
            ]
          },
          "metadata": {
            "tags": []
          },
          "execution_count": 110
        }
      ]
    },
    {
      "cell_type": "code",
      "metadata": {
        "colab": {
          "base_uri": "https://localhost:8080/"
        },
        "id": "tk409mixhnkL",
        "outputId": "cde55218-6f58-406a-f8bc-eb3cd62b3fdb"
      },
      "source": [
        "from collections import Counter\n",
        "y_count = Counter(y_train.reshape(-1))\n",
        "y_count"
      ],
      "execution_count": null,
      "outputs": [
        {
          "output_type": "execute_result",
          "data": {
            "text/plain": [
              "Counter({0: 17399, 1: 17311})"
            ]
          },
          "metadata": {
            "tags": []
          },
          "execution_count": 111
        }
      ]
    },
    {
      "cell_type": "code",
      "metadata": {
        "id": "ZzD1sHvVhuRh"
      },
      "source": [
        "lr = LogisticRegressionModel(X_train.shape[1])\n",
        "lr.fit(X_train, y_train)"
      ],
      "execution_count": null,
      "outputs": []
    },
    {
      "cell_type": "code",
      "metadata": {
        "colab": {
          "base_uri": "https://localhost:8080/"
        },
        "id": "X5qQJd1xhuRj",
        "outputId": "a949a43a-5796-4cfe-e2b2-c2c1a0933306"
      },
      "source": [
        "print(\"Linear Regression Model Accuracy(Train) {0:8.2f} %\".format(accuracy_score(y_train, lr.predict(X_train))*100))\n",
        "print(\"Linear Regression Model Accuracy(Test) {0:8.2f} %\".format(accuracy_score(y_test, lr.predict(X_test))*100))\n",
        "print(confusion_matrix(y_test, lr.predict(X_test)))"
      ],
      "execution_count": null,
      "outputs": [
        {
          "output_type": "stream",
          "text": [
            "Linear Regression Model Accuracy(Train)    57.46 %\n",
            "Linear Regression Model Accuracy(Test)    58.25 %\n",
            "[[2834 1461]\n",
            " [2162 2221]]\n"
          ],
          "name": "stdout"
        }
      ]
    },
    {
      "cell_type": "code",
      "metadata": {
        "colab": {
          "base_uri": "https://localhost:8080/"
        },
        "id": "PHnIgBMiVV7Z",
        "outputId": "3554a106-b2c5-4e50-cf50-35cf26cf2492"
      },
      "source": [
        "from sklearn.metrics import confusion_matrix, f1_score\n",
        "print(\"Logistic Regression Model Accuracy {0:8.2f} % test\".format(accuracy_score(y_test, lr.predict(X_test))*100))\n",
        "print(\"Logistic f_1\", f1_score(y_test, lr.predict(X_test)))\n",
        "print(confusion_matrix(y_test, lr.predict(X_test)))\n",
        "print(\"Logistic Regression Model Accuracy {0:8.2f} % train\".format(accuracy_score(y_train, lr.predict(X_train))*100))\n",
        "print(\"Logistic f_1\", f1_score(y_train, lr.predict(X_train)))"
      ],
      "execution_count": null,
      "outputs": [
        {
          "output_type": "stream",
          "text": [
            "Logistic Regression Model Accuracy    58.25 % test\n",
            "Logistic f_1 0.5507749535027898\n",
            "[[2834 1461]\n",
            " [2162 2221]]\n",
            "Logistic Regression Model Accuracy    57.46 % train\n",
            "Logistic f_1 0.5385216440068761\n"
          ],
          "name": "stdout"
        }
      ]
    },
    {
      "cell_type": "markdown",
      "metadata": {
        "id": "IT62OA-4Wa2D"
      },
      "source": [
        "## 70,30 split"
      ]
    },
    {
      "cell_type": "code",
      "metadata": {
        "colab": {
          "base_uri": "https://localhost:8080/"
        },
        "id": "ctdsIaUFWaFS",
        "outputId": "41e491f7-a714-4486-a7ef-9ad03a37a5aa"
      },
      "source": [
        "X_train, X_test, y_train, y_test = train_test_split(X, y, test_size=0.3)\n",
        "X_train.shape, X_test.shape, y_train.shape, y_test.shape"
      ],
      "execution_count": null,
      "outputs": [
        {
          "output_type": "execute_result",
          "data": {
            "text/plain": [
              "((30371, 57), (13017, 57), (30371, 1), (13017, 1))"
            ]
          },
          "metadata": {
            "tags": []
          },
          "execution_count": 119
        }
      ]
    },
    {
      "cell_type": "code",
      "metadata": {
        "id": "t-x4wupsWaFZ"
      },
      "source": [
        "lr = LogisticRegressionModel(X_train.shape[1])\n",
        "lr.fit(X_train, y_train)"
      ],
      "execution_count": null,
      "outputs": []
    },
    {
      "cell_type": "code",
      "metadata": {
        "colab": {
          "base_uri": "https://localhost:8080/"
        },
        "id": "_hK9GUZRWaFb",
        "outputId": "0a8ca325-32e5-4483-9d62-d6eb1c9b3fe5"
      },
      "source": [
        "from sklearn.metrics import confusion_matrix, f1_score\n",
        "print(\"Logistic Regression Model Accuracy {0:8.2f} % test\".format(accuracy_score(y_test, lr.predict(X_test))*100))\n",
        "print(\"Logistic f_1\", f1_score(y_test, lr.predict(X_test)))\n",
        "print(confusion_matrix(y_test, lr.predict(X_test)))\n",
        "print(\"Logistic Regression Model Accuracy {0:8.2f} % train\".format(accuracy_score(y_train, lr.predict(X_train))*100))\n",
        "print(\"Logistic f_1\", f1_score(y_train, lr.predict(X_train)))"
      ],
      "execution_count": null,
      "outputs": [
        {
          "output_type": "stream",
          "text": [
            "Logistic Regression Model Accuracy    43.83 % test\n",
            "Logistic f_1 0.4858669666713542\n",
            "[[2250 4358]\n",
            " [2954 3455]]\n",
            "Logistic Regression Model Accuracy    42.77 % train\n",
            "Logistic f_1 0.47784420344278544\n"
          ],
          "name": "stdout"
        }
      ]
    },
    {
      "cell_type": "code",
      "metadata": {
        "id": "LEMEvTuzix14"
      },
      "source": [
        ""
      ],
      "execution_count": null,
      "outputs": []
    }
  ]
}